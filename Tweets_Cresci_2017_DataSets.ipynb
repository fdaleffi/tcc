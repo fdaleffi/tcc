{
 "cells": [
  {
   "cell_type": "markdown",
   "metadata": {},
   "source": [
    "# Técnicas de Machine Learning para Classificação Supervisionada de Contas Bots do Twitter.\n",
    "\n",
    "## FIA LABDATA - Turma 13\n",
    "\n",
    "### Descrição dos Data Sets utilizados: \n",
    "\n",
    "Contas classificadas como reais e bots, anotadas pela [CrowdFlower](https://en.wikipedia.org/wiki/Figure_Eight_Inc.), conforme descrita no paper:[The Paradigm-Shift of Social Spambots: Evidence, Theories, and Tools for the Arms Race](http://dl.acm.org/citation.cfm?doid=3041021.3055135)\n",
    "\n",
    "fonte: http://mib.projects.iit.cnr.it/dataset.html\n"
   ]
  },
  {
   "cell_type": "code",
   "execution_count": 1,
   "metadata": {},
   "outputs": [],
   "source": [
    "import numpy as np\n",
    "import pandas as pd\n",
    "import seaborn as sns\n",
    "import datetime"
   ]
  },
  {
   "cell_type": "markdown",
   "metadata": {},
   "source": [
    "# Importando os Data Sets"
   ]
  },
  {
   "cell_type": "code",
   "execution_count": 3,
   "metadata": {},
   "outputs": [],
   "source": [
    "df_genuine_accounts = pd.read_csv('data/cresci-2017/genuine_accounts.csv/tweets.csv')\n",
    "df_genuine_accounts['classification'] = 'human'\n",
    "df_genuine_accounts['dataset'] = 'genuine_accounts'\n",
    "\n",
    "# elimina timezone da data\n",
    "#df_genuine_accounts['created_at'] = pd.to_datetime(df_genuine_accounts['created_at']).dt.tz_localize(None)"
   ]
  },
  {
   "cell_type": "code",
   "execution_count": 4,
   "metadata": {},
   "outputs": [],
   "source": [
    "df_social_spambots_1 = pd.read_csv('data/cresci-2017/social_spambots_1.csv/tweets.csv')\n",
    "df_social_spambots_1['classification'] = 'bot'\n",
    "df_social_spambots_1['dataset'] = 'social_spambots_1'\n",
    "\n",
    "# elimina timezone da data\n",
    "#df_social_spambots_1['created_at'] = pd.to_datetime(df_social_spambots_1['created_at']).dt.tz_localize(None)"
   ]
  },
  {
   "cell_type": "code",
   "execution_count": 5,
   "metadata": {},
   "outputs": [],
   "source": [
    "df_social_spambots_2 = pd.read_csv('data/cresci-2017/social_spambots_2.csv/tweets.csv')\n",
    "df_social_spambots_2['classification'] = 'bot'\n",
    "df_social_spambots_2['dataset'] = 'social_spambots_2'\n",
    "\n",
    "# elimina timezone da data\n",
    "#df_social_spambots_2['created_at'] = pd.to_datetime(df_social_spambots_2['created_at']).dt.tz_localize(None)"
   ]
  },
  {
   "cell_type": "code",
   "execution_count": 6,
   "metadata": {},
   "outputs": [],
   "source": [
    "df_social_spambots_3 = pd.read_csv('data/cresci-2017/social_spambots_3.csv/tweets.csv')\n",
    "df_social_spambots_3['classification'] = 'bot'\n",
    "df_social_spambots_3['dataset'] = 'social_spambots_3'\n",
    "\n",
    "# elimina timezone da data\n",
    "#df_social_spambots_3['created_at'] = pd.to_datetime(df_social_spambots_3['created_at']).dt.tz_localize(None)"
   ]
  },
  {
   "cell_type": "code",
   "execution_count": 8,
   "metadata": {},
   "outputs": [],
   "source": [
    "df_traditional_spambots_1 = pd.read_csv('data/cresci-2017/traditional_spambots_1.csv/tweets.csv')\n",
    "df_traditional_spambots_1['classification'] = 'bot'\n",
    "df_traditional_spambots_1['dataset'] = 'traditional_spambots_1'\n",
    "\n",
    "# Este dataset traz a variavel created_at em formato timestamp, em formato string com o \n",
    "# ultimo caracter = L (antiga marcação Python2 para Long)\n",
    "\n",
    "# Elimina o ultimo caracter L das datas com formato timestamp \n",
    "df_traditional_spambots_1['created_at'] = pd.Series(df_traditional_spambots_1['created_at']).str[0:13]\n",
    "\n",
    "# converte timestamp to datetime\n",
    "df_traditional_spambots_1['created_at'] = df_traditional_spambots_1['created_at'].apply(\n",
    "    lambda x: datetime.datetime.fromtimestamp(int(x)/1000)\n",
    ")"
   ]
  },
  {
   "cell_type": "code",
   "execution_count": 9,
   "metadata": {},
   "outputs": [],
   "source": [
    "df_fake_followers = pd.read_csv('data/cresci-2017/fake_followers.csv/tweets.csv')\n",
    "df_fake_followers['classification'] = 'bot'\n",
    "df_fake_followers['dataset'] = 'fake_followers'\n",
    "\n",
    "# elimina timezone da data\n",
    "#df_fake_followers['created_at'] = pd.to_datetime(df_fake_followers['created_at']).dt.tz_localize(None)"
   ]
  },
  {
   "cell_type": "code",
   "execution_count": 10,
   "metadata": {},
   "outputs": [
    {
     "output_type": "stream",
     "name": "stdout",
     "text": "(1610034, 27)\n(428542, 27)\n(1418557, 27)\n(145094, 27)\n(196027, 25)\n(2839361, 27)\n"
    }
   ],
   "source": [
    "print(df_social_spambots_1.shape)\n",
    "print(df_social_spambots_2.shape)\n",
    "print(df_social_spambots_3.shape)\n",
    "print(df_traditional_spambots_1.shape)\n",
    "print(df_fake_followers.shape)\n",
    "print(df_genuine_accounts.shape)"
   ]
  },
  {
   "cell_type": "markdown",
   "metadata": {},
   "source": [
    "# Concatenando os Datasets"
   ]
  },
  {
   "cell_type": "code",
   "execution_count": 11,
   "metadata": {},
   "outputs": [],
   "source": [
    "# Append dos datasets\n",
    "df_tweets = pd.concat([\n",
    "    df_social_spambots_1,\n",
    "    df_social_spambots_2,\n",
    "    df_social_spambots_3,\n",
    "    df_traditional_spambots_1,\n",
    "    df_fake_followers,\n",
    "    df_genuine_accounts\n",
    "])"
   ]
  },
  {
   "cell_type": "code",
   "execution_count": 12,
   "metadata": {},
   "outputs": [
    {
     "output_type": "execute_result",
     "data": {
      "text/plain": "(Index(['id', 'text', 'source', 'user_id', 'truncated', 'in_reply_to_status_id',\n        'in_reply_to_user_id', 'in_reply_to_screen_name', 'retweeted_status_id',\n        'geo', 'place', 'contributors', 'retweet_count', 'reply_count',\n        'favorite_count', 'favorited', 'retweeted', 'possibly_sensitive',\n        'num_hashtags', 'num_urls', 'num_mentions', 'created_at', 'timestamp',\n        'crawled_at', 'updated', 'classification', 'dataset'],\n       dtype='object'),\n (6637615, 27))"
     },
     "metadata": {},
     "execution_count": 12
    }
   ],
   "source": [
    "df_tweets.columns, df_tweets.shape"
   ]
  },
  {
   "cell_type": "code",
   "execution_count": 13,
   "metadata": {},
   "outputs": [],
   "source": [
    "# Drop features listadas pelo twitter como deprecated\n",
    "\n",
    "deprecated_features = [\n",
    "    'geo',\n",
    "    'contributors',\n",
    "    'favorited',\n",
    "    'retweeted',\n",
    "    'crawled_at',\n",
    "    'updated'\n",
    "]\n",
    "\n",
    "df_tweets = df_tweets.drop(deprecated_features, axis=1);"
   ]
  },
  {
   "cell_type": "code",
   "execution_count": 14,
   "metadata": {
    "scrolled": false
   },
   "outputs": [
    {
     "output_type": "execute_result",
     "data": {
      "text/plain": "id                               0\ntext                         13006\nsource                          72\nuser_id                          0\ntruncated                  6636862\nin_reply_to_status_id            0\nin_reply_to_user_id              0\nin_reply_to_screen_name    5598481\nretweeted_status_id         196027\nplace                      6508964\nretweet_count                    0\nreply_count                      0\nfavorite_count                   0\npossibly_sensitive         6610803\nnum_hashtags                     0\nnum_urls                         0\nnum_mentions                     0\ncreated_at                       0\ntimestamp                        0\nclassification                   0\ndataset                          0\ndtype: int64"
     },
     "metadata": {},
     "execution_count": 14
    }
   ],
   "source": [
    "df_tweets.isnull().sum()"
   ]
  },
  {
   "cell_type": "markdown",
   "metadata": {},
   "source": [
    "# Correção de valores das variáveis"
   ]
  },
  {
   "cell_type": "code",
   "execution_count": 15,
   "metadata": {},
   "outputs": [
    {
     "output_type": "execute_result",
     "data": {
      "text/plain": "0"
     },
     "metadata": {},
     "execution_count": 15
    }
   ],
   "source": [
    "# A variavel truncated possui 2 valores possiveis, de acordo com documentação do Twitter (True,False)\n",
    "# Os data sets apresentam os valores 1 e NaN, portanto, Substituir valores NaN por 0.\n",
    "df_tweets = df_tweets.fillna({'truncated':0})\n",
    "\n",
    "df_tweets['truncated'].isnull().sum()"
   ]
  },
  {
   "cell_type": "code",
   "execution_count": 16,
   "metadata": {},
   "outputs": [
    {
     "output_type": "execute_result",
     "data": {
      "text/plain": "0"
     },
     "metadata": {},
     "execution_count": 16
    }
   ],
   "source": [
    "# A variavel possibly_sensitive possui 2 valores possiveis, de acordo com documentação do Twitter (True,False)\n",
    "# Os data sets apresentam os valores 1 e NaN, portanto, Substituir valores NaN por 0.\n",
    "df_tweets = df_tweets.fillna({'possibly_sensitive':0})\n",
    "\n",
    "df_tweets['possibly_sensitive'].isnull().sum()"
   ]
  },
  {
   "cell_type": "code",
   "execution_count": 17,
   "metadata": {},
   "outputs": [
    {
     "output_type": "execute_result",
     "data": {
      "text/plain": "                    cont\ndataset                 \nfake_followers        20\ngenuine_accounts   12571\nsocial_spambots_1     90\nsocial_spambots_2    321\nsocial_spambots_3      4",
      "text/html": "<div>\n<style scoped>\n    .dataframe tbody tr th:only-of-type {\n        vertical-align: middle;\n    }\n\n    .dataframe tbody tr th {\n        vertical-align: top;\n    }\n\n    .dataframe thead th {\n        text-align: right;\n    }\n</style>\n<table border=\"1\" class=\"dataframe\">\n  <thead>\n    <tr style=\"text-align: right;\">\n      <th></th>\n      <th>cont</th>\n    </tr>\n    <tr>\n      <th>dataset</th>\n      <th></th>\n    </tr>\n  </thead>\n  <tbody>\n    <tr>\n      <th>fake_followers</th>\n      <td>20</td>\n    </tr>\n    <tr>\n      <th>genuine_accounts</th>\n      <td>12571</td>\n    </tr>\n    <tr>\n      <th>social_spambots_1</th>\n      <td>90</td>\n    </tr>\n    <tr>\n      <th>social_spambots_2</th>\n      <td>321</td>\n    </tr>\n    <tr>\n      <th>social_spambots_3</th>\n      <td>4</td>\n    </tr>\n  </tbody>\n</table>\n</div>"
     },
     "metadata": {},
     "execution_count": 17
    }
   ],
   "source": [
    "# investigando os tweets com text nulos\n",
    "df_temp = df_tweets.query('text != text')\n",
    "df_temp.groupby('dataset').agg(cont = ('id','count'))"
   ]
  },
  {
   "cell_type": "code",
   "execution_count": 18,
   "metadata": {},
   "outputs": [
    {
     "output_type": "execute_result",
     "data": {
      "text/plain": "0"
     },
     "metadata": {},
     "execution_count": 18
    }
   ],
   "source": [
    "# definindo '' branco para os tweets sem texto\n",
    "df_tweets['text'] = df_tweets.fillna({'text':''}).filter(['text'])\n",
    "\n",
    "df_tweets['text'].isnull().sum()"
   ]
  },
  {
   "cell_type": "markdown",
   "metadata": {},
   "source": [
    "# Criando novas variáveis"
   ]
  },
  {
   "cell_type": "code",
   "execution_count": 19,
   "metadata": {},
   "outputs": [],
   "source": [
    "# A variavel in_reply_to_screen_name quando diferente de null indica que o tweet é uma resposta ao scree_name em questão\n",
    "# A variavel is_reply está sendo criada para indicar se o tweet é uma resposta a alguém.\n",
    "df_tweets['is_reply'] = np.where(df_tweets['in_reply_to_screen_name'].isnull(),0,1)"
   ]
  },
  {
   "cell_type": "code",
   "execution_count": 20,
   "metadata": {},
   "outputs": [],
   "source": [
    "# Todos os retweets tem o texto iniciado por RT\n",
    "# Cria a variavel is_retweet para indicar se o tweet é na verdade um retweet baseado nas 2 primeira letras do text\n",
    "df_tweets['is_retweet'] = np.where(df_tweets.text.str[0:2] == 'RT',1,0)"
   ]
  },
  {
   "cell_type": "markdown",
   "metadata": {},
   "source": [
    "# Variáveis desprezadas"
   ]
  },
  {
   "cell_type": "code",
   "execution_count": 21,
   "metadata": {},
   "outputs": [],
   "source": [
    "drop_features = [\n",
    "    'in_reply_to_screen_name',\n",
    "    'in_reply_to_status_id',\n",
    "    'place',\n",
    "    'retweeted_status_id',\n",
    "    'source',\n",
    "    'timestamp',\n",
    "    'in_reply_to_user_id'\n",
    "]\n",
    "\n",
    "df_tweets.drop(drop_features, axis=1, inplace=True)"
   ]
  },
  {
   "cell_type": "markdown",
   "metadata": {},
   "source": [
    "# Agregando valores para adicionar ao dataset de Accounts\n",
    "#### Coletando métricas relacionadas aos usuários para que possam ser agregados ao dataset de Accounts"
   ]
  },
  {
   "cell_type": "code",
   "execution_count": 22,
   "metadata": {},
   "outputs": [
    {
     "output_type": "execute_result",
     "data": {
      "text/plain": "Index(['id', 'text', 'user_id', 'truncated', 'retweet_count', 'reply_count',\n       'favorite_count', 'possibly_sensitive', 'num_hashtags', 'num_urls',\n       'num_mentions', 'created_at', 'classification', 'dataset', 'is_reply',\n       'is_retweet'],\n      dtype='object')"
     },
     "metadata": {},
     "execution_count": 22
    }
   ],
   "source": [
    "df_tweets.columns"
   ]
  },
  {
   "cell_type": "code",
   "execution_count": 23,
   "metadata": {},
   "outputs": [],
   "source": [
    "df_user_metrics = (\n",
    "    df_tweets\n",
    "    .groupby('user_id')\n",
    "    .agg(\n",
    "        tweet_count = ('id','count'),\n",
    "        mean_hashtag_usage = ('num_hashtags','mean'),\n",
    "        mean_url_usage = ('num_urls','mean'),\n",
    "        mean_mention_usage = ('num_mentions','mean'),\n",
    "        mean_replies_made = ('is_reply','mean'),\n",
    "        mean_retweets_made = ('is_retweet','mean'),\n",
    "        mean_reply_received = ('reply_count','mean'),\n",
    "        mean_retweet_received = ('retweet_count','mean')\n",
    "    )\n",
    ")"
   ]
  },
  {
   "cell_type": "code",
   "execution_count": 24,
   "metadata": {},
   "outputs": [
    {
     "output_type": "execute_result",
     "data": {
      "text/plain": "         tweet_count  mean_hashtag_usage  mean_url_usage  mean_mention_usage  \\\nuser_id                                                                        \n678033          3195            0.368388        0.297653            1.112989   \n722623          3201            0.360512        0.163386            0.711965   \n755116          3209            0.040199        0.123715            0.959177   \n755746          3234            0.269944        0.461657            0.682127   \n785080          3235            0.051932        0.063988            0.782380   \n\n         mean_replies_made  mean_retweets_made  mean_reply_received  \\\nuser_id                                                               \n678033            0.339280            0.287950                  0.0   \n722623            0.280850            0.175883                  0.0   \n755116            0.518542            0.068869                  0.0   \n755746            0.346939            0.085343                  0.0   \n785080            0.428748            0.120556                  0.0   \n\n         mean_retweet_received  \nuser_id                         \n678033               75.970266  \n722623              283.785067  \n755116               32.989716  \n755746              199.153370  \n785080               43.263060  ",
      "text/html": "<div>\n<style scoped>\n    .dataframe tbody tr th:only-of-type {\n        vertical-align: middle;\n    }\n\n    .dataframe tbody tr th {\n        vertical-align: top;\n    }\n\n    .dataframe thead th {\n        text-align: right;\n    }\n</style>\n<table border=\"1\" class=\"dataframe\">\n  <thead>\n    <tr style=\"text-align: right;\">\n      <th></th>\n      <th>tweet_count</th>\n      <th>mean_hashtag_usage</th>\n      <th>mean_url_usage</th>\n      <th>mean_mention_usage</th>\n      <th>mean_replies_made</th>\n      <th>mean_retweets_made</th>\n      <th>mean_reply_received</th>\n      <th>mean_retweet_received</th>\n    </tr>\n    <tr>\n      <th>user_id</th>\n      <th></th>\n      <th></th>\n      <th></th>\n      <th></th>\n      <th></th>\n      <th></th>\n      <th></th>\n      <th></th>\n    </tr>\n  </thead>\n  <tbody>\n    <tr>\n      <th>678033</th>\n      <td>3195</td>\n      <td>0.368388</td>\n      <td>0.297653</td>\n      <td>1.112989</td>\n      <td>0.339280</td>\n      <td>0.287950</td>\n      <td>0.0</td>\n      <td>75.970266</td>\n    </tr>\n    <tr>\n      <th>722623</th>\n      <td>3201</td>\n      <td>0.360512</td>\n      <td>0.163386</td>\n      <td>0.711965</td>\n      <td>0.280850</td>\n      <td>0.175883</td>\n      <td>0.0</td>\n      <td>283.785067</td>\n    </tr>\n    <tr>\n      <th>755116</th>\n      <td>3209</td>\n      <td>0.040199</td>\n      <td>0.123715</td>\n      <td>0.959177</td>\n      <td>0.518542</td>\n      <td>0.068869</td>\n      <td>0.0</td>\n      <td>32.989716</td>\n    </tr>\n    <tr>\n      <th>755746</th>\n      <td>3234</td>\n      <td>0.269944</td>\n      <td>0.461657</td>\n      <td>0.682127</td>\n      <td>0.346939</td>\n      <td>0.085343</td>\n      <td>0.0</td>\n      <td>199.153370</td>\n    </tr>\n    <tr>\n      <th>785080</th>\n      <td>3235</td>\n      <td>0.051932</td>\n      <td>0.063988</td>\n      <td>0.782380</td>\n      <td>0.428748</td>\n      <td>0.120556</td>\n      <td>0.0</td>\n      <td>43.263060</td>\n    </tr>\n  </tbody>\n</table>\n</div>"
     },
     "metadata": {},
     "execution_count": 24
    }
   ],
   "source": [
    "df_user_metrics.head()"
   ]
  },
  {
   "cell_type": "code",
   "execution_count": 26,
   "metadata": {},
   "outputs": [
    {
     "output_type": "execute_result",
     "data": {
      "text/plain": "                             created_at                 dataset\n231062   Sat Jan 10 23:25:03 +0000 2015        genuine_accounts\n1518612  Tue Jun 17 12:14:42 +0000 2014       social_spambots_1\n1124066  Sat Sep 20 04:42:17 +0000 2014       social_spambots_3\n697241   Sat Oct 04 23:05:11 +0000 2014       social_spambots_3\n1928139  Tue Feb 10 17:14:00 +0000 2015        genuine_accounts\n171936   Tue Apr 29 22:07:40 +0000 2014       social_spambots_2\n269147   Wed Jul 30 06:53:24 +0000 2014        genuine_accounts\n116709              2009-11-06 17:31:40  traditional_spambots_1\n76221               2009-09-30 17:16:21  traditional_spambots_1\n1025269  Mon Oct 20 23:36:50 +0000 2014       social_spambots_3",
      "text/html": "<div>\n<style scoped>\n    .dataframe tbody tr th:only-of-type {\n        vertical-align: middle;\n    }\n\n    .dataframe tbody tr th {\n        vertical-align: top;\n    }\n\n    .dataframe thead th {\n        text-align: right;\n    }\n</style>\n<table border=\"1\" class=\"dataframe\">\n  <thead>\n    <tr style=\"text-align: right;\">\n      <th></th>\n      <th>created_at</th>\n      <th>dataset</th>\n    </tr>\n  </thead>\n  <tbody>\n    <tr>\n      <th>231062</th>\n      <td>Sat Jan 10 23:25:03 +0000 2015</td>\n      <td>genuine_accounts</td>\n    </tr>\n    <tr>\n      <th>1518612</th>\n      <td>Tue Jun 17 12:14:42 +0000 2014</td>\n      <td>social_spambots_1</td>\n    </tr>\n    <tr>\n      <th>1124066</th>\n      <td>Sat Sep 20 04:42:17 +0000 2014</td>\n      <td>social_spambots_3</td>\n    </tr>\n    <tr>\n      <th>697241</th>\n      <td>Sat Oct 04 23:05:11 +0000 2014</td>\n      <td>social_spambots_3</td>\n    </tr>\n    <tr>\n      <th>1928139</th>\n      <td>Tue Feb 10 17:14:00 +0000 2015</td>\n      <td>genuine_accounts</td>\n    </tr>\n    <tr>\n      <th>171936</th>\n      <td>Tue Apr 29 22:07:40 +0000 2014</td>\n      <td>social_spambots_2</td>\n    </tr>\n    <tr>\n      <th>269147</th>\n      <td>Wed Jul 30 06:53:24 +0000 2014</td>\n      <td>genuine_accounts</td>\n    </tr>\n    <tr>\n      <th>116709</th>\n      <td>2009-11-06 17:31:40</td>\n      <td>traditional_spambots_1</td>\n    </tr>\n    <tr>\n      <th>76221</th>\n      <td>2009-09-30 17:16:21</td>\n      <td>traditional_spambots_1</td>\n    </tr>\n    <tr>\n      <th>1025269</th>\n      <td>Mon Oct 20 23:36:50 +0000 2014</td>\n      <td>social_spambots_3</td>\n    </tr>\n  </tbody>\n</table>\n</div>"
     },
     "metadata": {},
     "execution_count": 26
    }
   ],
   "source": [
    "df_tweets[['created_at','dataset']].sample(10)"
   ]
  },
  {
   "cell_type": "code",
   "execution_count": null,
   "metadata": {},
   "outputs": [],
   "source": []
  }
 ],
 "metadata": {
  "kernelspec": {
   "display_name": "Python 3",
   "language": "python",
   "name": "python3"
  },
  "language_info": {
   "codemirror_mode": {
    "name": "ipython",
    "version": 3
   },
   "file_extension": ".py",
   "mimetype": "text/x-python",
   "name": "python",
   "nbconvert_exporter": "python",
   "pygments_lexer": "ipython3",
   "version": "3.7.6-final"
  }
 },
 "nbformat": 4,
 "nbformat_minor": 4
}