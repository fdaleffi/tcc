{
 "cells": [
  {
   "cell_type": "markdown",
   "metadata": {},
   "source": [
    "# Técnicas de Machine Learning para Classificação Supervisionada de Contas Bots do Twitter.\n",
    "\n",
    "## FIA LABDATA - Turma 13\n",
    "\n",
    "### Descrição dos Data Sets utilizados: \n",
    "\n",
    "Contas classificadas como reais e bots,conforme descrita no paper:[The Paradigm-Shift of Social Spambots: Evidence, Theories, and Tools for the Arms Race](http://dl.acm.org/citation.cfm?doid=3041021.3055135)\n",
    "\n",
    "fonte: http://mib.projects.iit.cnr.it/dataset.html\n"
   ]
  },
  {
   "cell_type": "code",
   "execution_count": 12,
   "metadata": {},
   "outputs": [],
   "source": [
    "import numpy as np\n",
    "import pandas as pd\n",
    "import seaborn as sns\n",
    "from datetime import datetime"
   ]
  },
  {
   "cell_type": "markdown",
   "metadata": {},
   "source": [
    "# Importando os Data Sets"
   ]
  },
  {
   "cell_type": "code",
   "execution_count": 3,
   "metadata": {},
   "outputs": [],
   "source": [
    "df_genuine_accounts = pd.read_csv('data/cresci-2017/genuine_accounts.csv/tweets.csv')\n",
    "df_genuine_accounts['classification'] = 'human'\n",
    "df_genuine_accounts['dataset'] = 'genuine_accounts'"
   ]
  },
  {
   "cell_type": "code",
   "execution_count": 4,
   "metadata": {},
   "outputs": [
    {
     "name": "stderr",
     "output_type": "stream",
     "text": [
      "C:\\Users\\Daleffi\\AppData\\Roaming\\Python\\Python37\\site-packages\\IPython\\core\\interactiveshell.py:3063: DtypeWarning: Columns (10) have mixed types.Specify dtype option on import or set low_memory=False.\n",
      "  interactivity=interactivity, compiler=compiler, result=result)\n"
     ]
    }
   ],
   "source": [
    "df_social_spambots_1 = pd.read_csv('data/cresci-2017/social_spambots_1.csv/tweets.csv')\n",
    "df_social_spambots_1['classification'] = 'bot'\n",
    "df_social_spambots_1['dataset'] = 'social_spambots_1'"
   ]
  },
  {
   "cell_type": "code",
   "execution_count": 5,
   "metadata": {},
   "outputs": [],
   "source": [
    "df_social_spambots_2 = pd.read_csv('data/cresci-2017/social_spambots_2.csv/tweets.csv')\n",
    "df_social_spambots_2['classification'] = 'bot'\n",
    "df_social_spambots_2['dataset'] = 'social_spambots_2'"
   ]
  },
  {
   "cell_type": "code",
   "execution_count": 6,
   "metadata": {},
   "outputs": [
    {
     "name": "stderr",
     "output_type": "stream",
     "text": [
      "C:\\Users\\Daleffi\\AppData\\Roaming\\Python\\Python37\\site-packages\\IPython\\core\\interactiveshell.py:3063: DtypeWarning: Columns (7,10) have mixed types.Specify dtype option on import or set low_memory=False.\n",
      "  interactivity=interactivity, compiler=compiler, result=result)\n"
     ]
    }
   ],
   "source": [
    "df_social_spambots_3 = pd.read_csv('data/cresci-2017/social_spambots_3.csv/tweets.csv')\n",
    "df_social_spambots_3['classification'] = 'bot'\n",
    "df_social_spambots_3['dataset'] = 'social_spambots_3'"
   ]
  },
  {
   "cell_type": "code",
   "execution_count": 7,
   "metadata": {},
   "outputs": [],
   "source": [
    "df_traditional_spambots_1 = pd.read_csv('data/cresci-2017/traditional_spambots_1.csv/tweets.csv')\n",
    "df_traditional_spambots_1['classification'] = 'bot'\n",
    "df_traditional_spambots_1['dataset'] = 'traditional_spambots_1'\n",
    "\n",
    "# Este dataset traz a variavel created_at em formato timestamp, em formato string com o \n",
    "# ultimo caracter = L (antiga marcação Python2 para Long)\n",
    "\n",
    "# Elimina o ultimo caracter L das datas com formato timestamp \n",
    "df_traditional_spambots_1['created_at'] = pd.Series(df_traditional_spambots_1['created_at']).str[0:13]\n",
    "\n",
    "# converte timestamp to datetime\n",
    "df_traditional_spambots_1['created_at'] = df_traditional_spambots_1['created_at'].apply(\n",
    "    lambda x: datetime.datetime.fromtimestamp(int(x)/1000)\n",
    ")"
   ]
  },
  {
   "cell_type": "code",
   "execution_count": 8,
   "metadata": {},
   "outputs": [
    {
     "name": "stderr",
     "output_type": "stream",
     "text": [
      "C:\\Users\\Daleffi\\AppData\\Roaming\\Python\\Python37\\site-packages\\IPython\\core\\interactiveshell.py:3063: DtypeWarning: Columns (8,11) have mixed types.Specify dtype option on import or set low_memory=False.\n",
      "  interactivity=interactivity, compiler=compiler, result=result)\n"
     ]
    }
   ],
   "source": [
    "df_fake_followers = pd.read_csv('data/cresci-2017/fake_followers.csv/tweets.csv')\n",
    "df_fake_followers['classification'] = 'bot'\n",
    "df_fake_followers['dataset'] = 'fake_followers'\n"
   ]
  },
  {
   "cell_type": "code",
   "execution_count": 20,
   "metadata": {},
   "outputs": [],
   "source": [
    "# adiciona a coluna Date (YMD) em cada um dos dataframes\n",
    "df_list = [\n",
    "    df_social_spambots_1,\n",
    "    df_social_spambots_2,\n",
    "    df_social_spambots_3,\n",
    "    df_traditional_spambots_1,\n",
    "    df_fake_followers,\n",
    "    df_genuine_accounts\n",
    "]\n",
    "\n",
    "for dataframe in df_list:\n",
    "\n",
    "    dataframe['created_at'] = pd.to_datetime(dataframe['created_at'])\n",
    "    dataframe['date'] = dataframe['created_at'].apply(\n",
    "        lambda x: datetime(year=x.year, month=x.month, day=x.day))"
   ]
  },
  {
   "cell_type": "code",
   "execution_count": 21,
   "metadata": {},
   "outputs": [
    {
     "name": "stdout",
     "output_type": "stream",
     "text": [
      "(1610034, 28)\n",
      "(428542, 28)\n",
      "(1418557, 28)\n",
      "(145094, 28)\n",
      "(196027, 26)\n",
      "(2839361, 28)\n"
     ]
    }
   ],
   "source": [
    "print(df_social_spambots_1.shape)\n",
    "print(df_social_spambots_2.shape)\n",
    "print(df_social_spambots_3.shape)\n",
    "print(df_traditional_spambots_1.shape)\n",
    "print(df_fake_followers.shape)\n",
    "print(df_genuine_accounts.shape)"
   ]
  },
  {
   "cell_type": "markdown",
   "metadata": {},
   "source": [
    "# Concatenando os Datasets"
   ]
  },
  {
   "cell_type": "code",
   "execution_count": 22,
   "metadata": {},
   "outputs": [],
   "source": [
    "# Append dos datasets\n",
    "df_tweets = pd.concat([\n",
    "    df_social_spambots_1,\n",
    "    df_social_spambots_2,\n",
    "    df_social_spambots_3,\n",
    "    df_traditional_spambots_1,\n",
    "    df_fake_followers,\n",
    "    df_genuine_accounts\n",
    "])"
   ]
  },
  {
   "cell_type": "code",
   "execution_count": 23,
   "metadata": {},
   "outputs": [
    {
     "data": {
      "text/plain": [
       "(Index(['id', 'text', 'source', 'user_id', 'truncated', 'in_reply_to_status_id',\n",
       "        'in_reply_to_user_id', 'in_reply_to_screen_name', 'retweeted_status_id',\n",
       "        'geo', 'place', 'contributors', 'retweet_count', 'reply_count',\n",
       "        'favorite_count', 'favorited', 'retweeted', 'possibly_sensitive',\n",
       "        'num_hashtags', 'num_urls', 'num_mentions', 'created_at', 'timestamp',\n",
       "        'crawled_at', 'updated', 'classification', 'dataset', 'date'],\n",
       "       dtype='object'),\n",
       " (6637615, 28))"
      ]
     },
     "execution_count": 23,
     "metadata": {},
     "output_type": "execute_result"
    }
   ],
   "source": [
    "df_tweets.columns, df_tweets.shape"
   ]
  },
  {
   "cell_type": "code",
   "execution_count": 24,
   "metadata": {},
   "outputs": [],
   "source": [
    "# Drop features listadas pelo twitter como deprecated\n",
    "\n",
    "deprecated_features = [\n",
    "    'geo',\n",
    "    'contributors',\n",
    "    'favorited',\n",
    "    'retweeted',\n",
    "    'crawled_at',\n",
    "    'updated'\n",
    "]\n",
    "\n",
    "df_tweets = df_tweets.drop(deprecated_features, axis=1);"
   ]
  },
  {
   "cell_type": "code",
   "execution_count": 25,
   "metadata": {
    "scrolled": false
   },
   "outputs": [
    {
     "data": {
      "text/plain": [
       "id                               0\n",
       "text                         13006\n",
       "source                          72\n",
       "user_id                          0\n",
       "truncated                  6636862\n",
       "in_reply_to_status_id            0\n",
       "in_reply_to_user_id              0\n",
       "in_reply_to_screen_name    5598481\n",
       "retweeted_status_id         196027\n",
       "place                      6508964\n",
       "retweet_count                    0\n",
       "reply_count                      0\n",
       "favorite_count                   0\n",
       "possibly_sensitive         6610803\n",
       "num_hashtags                     0\n",
       "num_urls                         0\n",
       "num_mentions                     0\n",
       "created_at                       0\n",
       "timestamp                        0\n",
       "classification                   0\n",
       "dataset                          0\n",
       "date                             0\n",
       "dtype: int64"
      ]
     },
     "execution_count": 25,
     "metadata": {},
     "output_type": "execute_result"
    }
   ],
   "source": [
    "# Verifica se há valores nulos\n",
    "df_tweets.isnull().sum()"
   ]
  },
  {
   "cell_type": "markdown",
   "metadata": {},
   "source": [
    "# Tratamento das variáveis"
   ]
  },
  {
   "cell_type": "code",
   "execution_count": 26,
   "metadata": {},
   "outputs": [
    {
     "data": {
      "text/plain": [
       "0"
      ]
     },
     "execution_count": 26,
     "metadata": {},
     "output_type": "execute_result"
    }
   ],
   "source": [
    "# A variavel truncated possui 2 valores possiveis, de acordo com documentação do Twitter (True,False)\n",
    "# Os data sets apresentam os valores 1 e NaN, portanto, Substituir valores NaN por 0.\n",
    "df_tweets['truncated'] = df_tweets['truncated'].fillna(0)\n",
    "df_tweets['truncated'].isnull().sum()"
   ]
  },
  {
   "cell_type": "code",
   "execution_count": 27,
   "metadata": {},
   "outputs": [
    {
     "data": {
      "text/plain": [
       "0"
      ]
     },
     "execution_count": 27,
     "metadata": {},
     "output_type": "execute_result"
    }
   ],
   "source": [
    "# A variavel possibly_sensitive possui 2 valores possiveis, de acordo com documentação do Twitter (True,False)\n",
    "# Os data sets apresentam os valores 1 e NaN, portanto, Substituir valores NaN por 0.\n",
    "df_tweets['possibly_sensitive'] = df_tweets['possibly_sensitive'].fillna(0)\n",
    "df_tweets['possibly_sensitive'].isnull().sum()"
   ]
  },
  {
   "cell_type": "code",
   "execution_count": 28,
   "metadata": {},
   "outputs": [
    {
     "data": {
      "text/html": [
       "<div>\n",
       "<style scoped>\n",
       "    .dataframe tbody tr th:only-of-type {\n",
       "        vertical-align: middle;\n",
       "    }\n",
       "\n",
       "    .dataframe tbody tr th {\n",
       "        vertical-align: top;\n",
       "    }\n",
       "\n",
       "    .dataframe thead th {\n",
       "        text-align: right;\n",
       "    }\n",
       "</style>\n",
       "<table border=\"1\" class=\"dataframe\">\n",
       "  <thead>\n",
       "    <tr style=\"text-align: right;\">\n",
       "      <th></th>\n",
       "      <th>cont</th>\n",
       "    </tr>\n",
       "    <tr>\n",
       "      <th>dataset</th>\n",
       "      <th></th>\n",
       "    </tr>\n",
       "  </thead>\n",
       "  <tbody>\n",
       "    <tr>\n",
       "      <th>fake_followers</th>\n",
       "      <td>20</td>\n",
       "    </tr>\n",
       "    <tr>\n",
       "      <th>genuine_accounts</th>\n",
       "      <td>12571</td>\n",
       "    </tr>\n",
       "    <tr>\n",
       "      <th>social_spambots_1</th>\n",
       "      <td>90</td>\n",
       "    </tr>\n",
       "    <tr>\n",
       "      <th>social_spambots_2</th>\n",
       "      <td>321</td>\n",
       "    </tr>\n",
       "    <tr>\n",
       "      <th>social_spambots_3</th>\n",
       "      <td>4</td>\n",
       "    </tr>\n",
       "  </tbody>\n",
       "</table>\n",
       "</div>"
      ],
      "text/plain": [
       "                    cont\n",
       "dataset                 \n",
       "fake_followers        20\n",
       "genuine_accounts   12571\n",
       "social_spambots_1     90\n",
       "social_spambots_2    321\n",
       "social_spambots_3      4"
      ]
     },
     "execution_count": 28,
     "metadata": {},
     "output_type": "execute_result"
    }
   ],
   "source": [
    "# investigando os tweets com text nulos\n",
    "df_temp = df_tweets.query('text != text')\n",
    "df_temp.groupby('dataset').agg(cont = ('id','count'))"
   ]
  },
  {
   "cell_type": "code",
   "execution_count": 29,
   "metadata": {},
   "outputs": [
    {
     "data": {
      "text/plain": [
       "0"
      ]
     },
     "execution_count": 29,
     "metadata": {},
     "output_type": "execute_result"
    }
   ],
   "source": [
    "# definindo '' branco para os tweets sem texto\n",
    "df_tweets['text'] = df_tweets.fillna({'text':''}).filter(['text'])\n",
    "df_tweets['text'].isnull().sum()"
   ]
  },
  {
   "cell_type": "markdown",
   "metadata": {},
   "source": [
    "# Criando novas variáveis"
   ]
  },
  {
   "cell_type": "code",
   "execution_count": 30,
   "metadata": {},
   "outputs": [],
   "source": [
    "# A variavel in_reply_to_screen_name quando diferente de null indica que o tweet é uma resposta ao scree_name em questão\n",
    "# A variavel is_reply está sendo criada para indicar se o tweet é uma resposta a alguém.\n",
    "df_tweets['is_reply'] = np.where(df_tweets['in_reply_to_screen_name'].isnull(),0,1)"
   ]
  },
  {
   "cell_type": "code",
   "execution_count": 31,
   "metadata": {},
   "outputs": [],
   "source": [
    "# Todos os retweets tem o texto iniciado por RT\n",
    "# Cria a variavel is_retweet para indicar se o tweet é na verdade um retweet baseado nas 2 primeira letras do text\n",
    "df_tweets['is_retweet'] = np.where(df_tweets.text.str[0:2] == 'RT',1,0)"
   ]
  },
  {
   "cell_type": "markdown",
   "metadata": {},
   "source": [
    "# Variáveis desprezadas"
   ]
  },
  {
   "cell_type": "code",
   "execution_count": 32,
   "metadata": {},
   "outputs": [],
   "source": [
    "drop_features = [\n",
    "    'in_reply_to_screen_name',\n",
    "    'in_reply_to_status_id',\n",
    "    'place',\n",
    "    'retweeted_status_id',\n",
    "    'source',\n",
    "    'timestamp',\n",
    "    'in_reply_to_user_id'\n",
    "]\n",
    "\n",
    "df_tweets.drop(drop_features, axis=1, inplace=True)"
   ]
  },
  {
   "cell_type": "markdown",
   "metadata": {},
   "source": [
    "# Extraindo métricas dos usuários através de seus tweets \n",
    "#### Coletando métricas relacionadas aos usuários para que possam ser agregados ao dataset de Accounts"
   ]
  },
  {
   "cell_type": "code",
   "execution_count": 34,
   "metadata": {},
   "outputs": [],
   "source": [
    "df_user_metrics = (\n",
    "    df_tweets\n",
    "    .groupby('user_id')\n",
    "    .agg(\n",
    "        tweet_count = ('id','count'),\n",
    "        mean_hashtag_usage = ('num_hashtags','mean'),\n",
    "        mean_url_usage = ('num_urls','mean'),\n",
    "        mean_mention_usage = ('num_mentions','mean'),\n",
    "        mean_replies_made = ('is_reply','mean'),\n",
    "        mean_retweets_made = ('is_retweet','mean'),\n",
    "        mean_reply_received = ('reply_count','mean'),\n",
    "        mean_retweet_received = ('retweet_count','mean')\n",
    "    )\n",
    ")"
   ]
  },
  {
   "cell_type": "code",
   "execution_count": 51,
   "metadata": {},
   "outputs": [],
   "source": [
    "# Métrica de tweets por dia do usuário\n",
    "\n",
    "df_user_metrics['avg_tweets_per_day'] = (\n",
    "    df_tweets.groupby(['user_id', 'date']).agg(tweets_per_day=('user_id','count'))\n",
    ").groupby('user_id').agg(avg_tweets_per_day = ('tweets_per_day','mean'))\n"
   ]
  },
  {
   "cell_type": "code",
   "execution_count": 129,
   "metadata": {},
   "outputs": [],
   "source": [
    "# Métrica de média de contagem de palavras.\n",
    "\n",
    "df_tweets['word_split'] = df_tweets['text'].str.split()\n",
    "df_tweets['word_count'] = df_tweets['word_split'].str.len()\n",
    "\n",
    "df_user_metrics['avg_word_count'] = df_tweets.groupby('user_id').agg(\n",
    "    avg_word_count = ('word_count', 'mean')\n",
    ")"
   ]
  },
  {
   "cell_type": "code",
   "execution_count": 140,
   "metadata": {},
   "outputs": [
    {
     "data": {
      "text/plain": [
       "(10197, 10)"
      ]
     },
     "execution_count": 140,
     "metadata": {},
     "output_type": "execute_result"
    }
   ],
   "source": [
    "df_user_metrics.shape"
   ]
  },
  {
   "cell_type": "markdown",
   "metadata": {},
   "source": [
    "# Exportando as métricas para CSV"
   ]
  },
  {
   "cell_type": "code",
   "execution_count": 141,
   "metadata": {},
   "outputs": [],
   "source": [
    "df_user_metrics.to_csv(r'C:\\git_repositories\\tcc\\accounts_tweet_metrics.csv', index=True)"
   ]
  }
 ],
 "metadata": {
  "kernelspec": {
   "display_name": "Python 3",
   "language": "python",
   "name": "python3"
  },
  "language_info": {
   "codemirror_mode": {
    "name": "ipython",
    "version": 3
   },
   "file_extension": ".py",
   "mimetype": "text/x-python",
   "name": "python",
   "nbconvert_exporter": "python",
   "pygments_lexer": "ipython3",
   "version": "3.7.6"
  }
 },
 "nbformat": 4,
 "nbformat_minor": 4
}
