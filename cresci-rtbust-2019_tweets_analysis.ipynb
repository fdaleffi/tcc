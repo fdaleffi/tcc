{
 "cells": [
  {
   "cell_type": "code",
   "execution_count": 401,
   "metadata": {},
   "outputs": [],
   "source": [
    "import numpy as np\n",
    "import pandas as pd\n",
    "import seaborn as sns\n",
    "import matplotlib as plt"
   ]
  },
  {
   "cell_type": "markdown",
   "metadata": {},
   "source": [
    "### O Dataset cresci-rtbust-2019_tweets.json contem usuários do twitter manualmente marcados como contas Humanas e Bots\n",
    "\n",
    "###### fonte: https://botometer.iuni.iu.edu/bot-repository/datasets.html"
   ]
  },
  {
   "cell_type": "code",
   "execution_count": 174,
   "metadata": {},
   "outputs": [
    {
     "data": {
      "text/html": [
       "<div>\n",
       "<style scoped>\n",
       "    .dataframe tbody tr th:only-of-type {\n",
       "        vertical-align: middle;\n",
       "    }\n",
       "\n",
       "    .dataframe tbody tr th {\n",
       "        vertical-align: top;\n",
       "    }\n",
       "\n",
       "    .dataframe thead th {\n",
       "        text-align: right;\n",
       "    }\n",
       "</style>\n",
       "<table border=\"1\" class=\"dataframe\">\n",
       "  <thead>\n",
       "    <tr style=\"text-align: right;\">\n",
       "      <th></th>\n",
       "      <th>created_at</th>\n",
       "      <th>user</th>\n",
       "    </tr>\n",
       "  </thead>\n",
       "  <tbody>\n",
       "    <tr>\n",
       "      <th>0</th>\n",
       "      <td>2019-05-15 16:00:19+00:00</td>\n",
       "      <td>{'id': 3022357312, 'id_str': '3022357312', 'na...</td>\n",
       "    </tr>\n",
       "    <tr>\n",
       "      <th>1</th>\n",
       "      <td>2019-05-16 20:07:35+00:00</td>\n",
       "      <td>{'id': 753659579582541824, 'id_str': '75365957...</td>\n",
       "    </tr>\n",
       "    <tr>\n",
       "      <th>2</th>\n",
       "      <td>2019-05-17 17:22:28+00:00</td>\n",
       "      <td>{'id': 901802279623417856, 'id_str': '90180227...</td>\n",
       "    </tr>\n",
       "    <tr>\n",
       "      <th>3</th>\n",
       "      <td>2018-09-24 13:01:10+00:00</td>\n",
       "      <td>{'id': 2982392825, 'id_str': '2982392825', 'na...</td>\n",
       "    </tr>\n",
       "    <tr>\n",
       "      <th>4</th>\n",
       "      <td>2019-05-15 16:41:07+00:00</td>\n",
       "      <td>{'id': 825436422609969152, 'id_str': '82543642...</td>\n",
       "    </tr>\n",
       "  </tbody>\n",
       "</table>\n",
       "</div>"
      ],
      "text/plain": [
       "                 created_at                                               user\n",
       "0 2019-05-15 16:00:19+00:00  {'id': 3022357312, 'id_str': '3022357312', 'na...\n",
       "1 2019-05-16 20:07:35+00:00  {'id': 753659579582541824, 'id_str': '75365957...\n",
       "2 2019-05-17 17:22:28+00:00  {'id': 901802279623417856, 'id_str': '90180227...\n",
       "3 2018-09-24 13:01:10+00:00  {'id': 2982392825, 'id_str': '2982392825', 'na...\n",
       "4 2019-05-15 16:41:07+00:00  {'id': 825436422609969152, 'id_str': '82543642..."
      ]
     },
     "execution_count": 174,
     "metadata": {},
     "output_type": "execute_result"
    }
   ],
   "source": [
    "# read twitter dataset \n",
    "df = pd.read_json('data/cresci-rtbust-2019/cresci-rtbust-2019_tweets.json')\n",
    "df.head()"
   ]
  },
  {
   "cell_type": "code",
   "execution_count": 175,
   "metadata": {},
   "outputs": [
    {
     "data": {
      "text/html": [
       "<div>\n",
       "<style scoped>\n",
       "    .dataframe tbody tr th:only-of-type {\n",
       "        vertical-align: middle;\n",
       "    }\n",
       "\n",
       "    .dataframe tbody tr th {\n",
       "        vertical-align: top;\n",
       "    }\n",
       "\n",
       "    .dataframe thead th {\n",
       "        text-align: right;\n",
       "    }\n",
       "</style>\n",
       "<table border=\"1\" class=\"dataframe\">\n",
       "  <thead>\n",
       "    <tr style=\"text-align: right;\">\n",
       "      <th></th>\n",
       "      <th>id</th>\n",
       "      <th>id_str</th>\n",
       "      <th>name</th>\n",
       "      <th>screen_name</th>\n",
       "      <th>location</th>\n",
       "      <th>description</th>\n",
       "      <th>url</th>\n",
       "      <th>protected</th>\n",
       "      <th>followers_count</th>\n",
       "      <th>friends_count</th>\n",
       "      <th>...</th>\n",
       "      <th>profile_use_background_image</th>\n",
       "      <th>has_extended_profile</th>\n",
       "      <th>default_profile</th>\n",
       "      <th>default_profile_image</th>\n",
       "      <th>following</th>\n",
       "      <th>follow_request_sent</th>\n",
       "      <th>notifications</th>\n",
       "      <th>translator_type</th>\n",
       "      <th>entities.description.urls</th>\n",
       "      <th>entities.url.urls</th>\n",
       "    </tr>\n",
       "  </thead>\n",
       "  <tbody>\n",
       "    <tr>\n",
       "      <th>0</th>\n",
       "      <td>3022357312</td>\n",
       "      <td>3022357312</td>\n",
       "      <td>patatavis</td>\n",
       "      <td>pattavis</td>\n",
       "      <td></td>\n",
       "      <td></td>\n",
       "      <td>None</td>\n",
       "      <td>False</td>\n",
       "      <td>218</td>\n",
       "      <td>285</td>\n",
       "      <td>...</td>\n",
       "      <td>True</td>\n",
       "      <td>False</td>\n",
       "      <td>True</td>\n",
       "      <td>False</td>\n",
       "      <td>False</td>\n",
       "      <td>False</td>\n",
       "      <td>False</td>\n",
       "      <td>none</td>\n",
       "      <td>[]</td>\n",
       "      <td>NaN</td>\n",
       "    </tr>\n",
       "    <tr>\n",
       "      <th>1</th>\n",
       "      <td>753659579582541824</td>\n",
       "      <td>753659579582541824</td>\n",
       "      <td>#1DMITAMProject ♡ #OneDirectionBestFans</td>\n",
       "      <td>PromotingLouisT</td>\n",
       "      <td>Italy</td>\n",
       "      <td>➡ here we promote all of the boys' music 🐼💖\\n\\...</td>\n",
       "      <td>https://t.co/8HvscWygQd</td>\n",
       "      <td>False</td>\n",
       "      <td>256</td>\n",
       "      <td>358</td>\n",
       "      <td>...</td>\n",
       "      <td>True</td>\n",
       "      <td>False</td>\n",
       "      <td>True</td>\n",
       "      <td>False</td>\n",
       "      <td>False</td>\n",
       "      <td>False</td>\n",
       "      <td>False</td>\n",
       "      <td>none</td>\n",
       "      <td>[]</td>\n",
       "      <td>[{'url': 'https://t.co/8HvscWygQd', 'expanded_...</td>\n",
       "    </tr>\n",
       "    <tr>\n",
       "      <th>2</th>\n",
       "      <td>901802279623417856</td>\n",
       "      <td>901802279623417856</td>\n",
       "      <td>Anna 05600885</td>\n",
       "      <td>Anna10mila</td>\n",
       "      <td>Milano, Lombardia</td>\n",
       "      <td>Sii il cambiamento</td>\n",
       "      <td>None</td>\n",
       "      <td>False</td>\n",
       "      <td>287</td>\n",
       "      <td>346</td>\n",
       "      <td>...</td>\n",
       "      <td>True</td>\n",
       "      <td>False</td>\n",
       "      <td>True</td>\n",
       "      <td>False</td>\n",
       "      <td>False</td>\n",
       "      <td>False</td>\n",
       "      <td>False</td>\n",
       "      <td>none</td>\n",
       "      <td>[]</td>\n",
       "      <td>NaN</td>\n",
       "    </tr>\n",
       "    <tr>\n",
       "      <th>3</th>\n",
       "      <td>2982392825</td>\n",
       "      <td>2982392825</td>\n",
       "      <td>Hanna</td>\n",
       "      <td>AlleHanna</td>\n",
       "      <td></td>\n",
       "      <td></td>\n",
       "      <td>None</td>\n",
       "      <td>False</td>\n",
       "      <td>266</td>\n",
       "      <td>354</td>\n",
       "      <td>...</td>\n",
       "      <td>True</td>\n",
       "      <td>False</td>\n",
       "      <td>True</td>\n",
       "      <td>False</td>\n",
       "      <td>False</td>\n",
       "      <td>False</td>\n",
       "      <td>False</td>\n",
       "      <td>none</td>\n",
       "      <td>[]</td>\n",
       "      <td>NaN</td>\n",
       "    </tr>\n",
       "    <tr>\n",
       "      <th>4</th>\n",
       "      <td>825436422609969152</td>\n",
       "      <td>825436422609969152</td>\n",
       "      <td>Zaffiro Blu</td>\n",
       "      <td>ZaffiroBlu3</td>\n",
       "      <td></td>\n",
       "      <td>Se puoi sognarlo puoi farlo 💙</td>\n",
       "      <td>None</td>\n",
       "      <td>False</td>\n",
       "      <td>286</td>\n",
       "      <td>564</td>\n",
       "      <td>...</td>\n",
       "      <td>True</td>\n",
       "      <td>False</td>\n",
       "      <td>True</td>\n",
       "      <td>False</td>\n",
       "      <td>False</td>\n",
       "      <td>False</td>\n",
       "      <td>False</td>\n",
       "      <td>none</td>\n",
       "      <td>[]</td>\n",
       "      <td>NaN</td>\n",
       "    </tr>\n",
       "  </tbody>\n",
       "</table>\n",
       "<p>5 rows × 43 columns</p>\n",
       "</div>"
      ],
      "text/plain": [
       "                   id              id_str  \\\n",
       "0          3022357312          3022357312   \n",
       "1  753659579582541824  753659579582541824   \n",
       "2  901802279623417856  901802279623417856   \n",
       "3          2982392825          2982392825   \n",
       "4  825436422609969152  825436422609969152   \n",
       "\n",
       "                                      name      screen_name  \\\n",
       "0                                patatavis         pattavis   \n",
       "1  #1DMITAMProject ♡ #OneDirectionBestFans  PromotingLouisT   \n",
       "2                            Anna 05600885       Anna10mila   \n",
       "3                                    Hanna        AlleHanna   \n",
       "4                              Zaffiro Blu      ZaffiroBlu3   \n",
       "\n",
       "            location                                        description  \\\n",
       "0                                                                         \n",
       "1              Italy  ➡ here we promote all of the boys' music 🐼💖\\n\\...   \n",
       "2  Milano, Lombardia                                 Sii il cambiamento   \n",
       "3                                                                         \n",
       "4                                         Se puoi sognarlo puoi farlo 💙   \n",
       "\n",
       "                       url  protected  followers_count  friends_count  ...  \\\n",
       "0                     None      False              218            285  ...   \n",
       "1  https://t.co/8HvscWygQd      False              256            358  ...   \n",
       "2                     None      False              287            346  ...   \n",
       "3                     None      False              266            354  ...   \n",
       "4                     None      False              286            564  ...   \n",
       "\n",
       "   profile_use_background_image has_extended_profile  default_profile  \\\n",
       "0                          True                False             True   \n",
       "1                          True                False             True   \n",
       "2                          True                False             True   \n",
       "3                          True                False             True   \n",
       "4                          True                False             True   \n",
       "\n",
       "  default_profile_image following  follow_request_sent  notifications  \\\n",
       "0                 False     False                False          False   \n",
       "1                 False     False                False          False   \n",
       "2                 False     False                False          False   \n",
       "3                 False     False                False          False   \n",
       "4                 False     False                False          False   \n",
       "\n",
       "   translator_type entities.description.urls  \\\n",
       "0             none                        []   \n",
       "1             none                        []   \n",
       "2             none                        []   \n",
       "3             none                        []   \n",
       "4             none                        []   \n",
       "\n",
       "                                   entities.url.urls  \n",
       "0                                                NaN  \n",
       "1  [{'url': 'https://t.co/8HvscWygQd', 'expanded_...  \n",
       "2                                                NaN  \n",
       "3                                                NaN  \n",
       "4                                                NaN  \n",
       "\n",
       "[5 rows x 43 columns]"
      ]
     },
     "execution_count": 175,
     "metadata": {},
     "output_type": "execute_result"
    }
   ],
   "source": [
    "# convert json data to flat table\n",
    "df_twitter_users = pd.json_normalize(data=df['user'])\n",
    "df_twitter_users.head()"
   ]
  },
  {
   "cell_type": "markdown",
   "metadata": {},
   "source": [
    "### O Dataset acompanha um arquivo de classificação (bot/humano).\n",
    "##### Necessário realizar um JOIN pelo ID do usuário entre os 2 datasets"
   ]
  },
  {
   "cell_type": "code",
   "execution_count": 176,
   "metadata": {},
   "outputs": [],
   "source": [
    "# read calssification dataset (tab separated)\n",
    "column_list = ['id','classification']\n",
    "df_user_calssification = pd.read_csv('data/cresci-rtbust-2019/cresci-rtbust-2019.tsv', sep='\\t', names = column_list)"
   ]
  },
  {
   "cell_type": "code",
   "execution_count": 112,
   "metadata": {},
   "outputs": [
    {
     "data": {
      "text/html": [
       "<div>\n",
       "<style scoped>\n",
       "    .dataframe tbody tr th:only-of-type {\n",
       "        vertical-align: middle;\n",
       "    }\n",
       "\n",
       "    .dataframe tbody tr th {\n",
       "        vertical-align: top;\n",
       "    }\n",
       "\n",
       "    .dataframe thead th {\n",
       "        text-align: right;\n",
       "    }\n",
       "</style>\n",
       "<table border=\"1\" class=\"dataframe\">\n",
       "  <thead>\n",
       "    <tr style=\"text-align: right;\">\n",
       "      <th></th>\n",
       "      <th>id</th>\n",
       "      <th>classification</th>\n",
       "    </tr>\n",
       "  </thead>\n",
       "  <tbody>\n",
       "    <tr>\n",
       "      <th>0</th>\n",
       "      <td>3039154799</td>\n",
       "      <td>human</td>\n",
       "    </tr>\n",
       "    <tr>\n",
       "      <th>1</th>\n",
       "      <td>390617262</td>\n",
       "      <td>bot</td>\n",
       "    </tr>\n",
       "    <tr>\n",
       "      <th>2</th>\n",
       "      <td>4611389296</td>\n",
       "      <td>human</td>\n",
       "    </tr>\n",
       "    <tr>\n",
       "      <th>3</th>\n",
       "      <td>734396807745286145</td>\n",
       "      <td>human</td>\n",
       "    </tr>\n",
       "    <tr>\n",
       "      <th>4</th>\n",
       "      <td>1010978324569640960</td>\n",
       "      <td>bot</td>\n",
       "    </tr>\n",
       "  </tbody>\n",
       "</table>\n",
       "</div>"
      ],
      "text/plain": [
       "                    id classification\n",
       "0           3039154799          human\n",
       "1            390617262            bot\n",
       "2           4611389296          human\n",
       "3   734396807745286145          human\n",
       "4  1010978324569640960            bot"
      ]
     },
     "execution_count": 112,
     "metadata": {},
     "output_type": "execute_result"
    }
   ],
   "source": [
    "df_user_calssification.head()"
   ]
  },
  {
   "cell_type": "code",
   "execution_count": 350,
   "metadata": {},
   "outputs": [
    {
     "data": {
      "text/plain": [
       "(759, 2)"
      ]
     },
     "execution_count": 350,
     "metadata": {},
     "output_type": "execute_result"
    }
   ],
   "source": [
    "df_user_calssification.shape"
   ]
  },
  {
   "cell_type": "code",
   "execution_count": 101,
   "metadata": {},
   "outputs": [
    {
     "data": {
      "text/plain": [
       "(693, 43)"
      ]
     },
     "execution_count": 101,
     "metadata": {},
     "output_type": "execute_result"
    }
   ],
   "source": [
    "df_twitter_users.shape"
   ]
  },
  {
   "cell_type": "code",
   "execution_count": 177,
   "metadata": {},
   "outputs": [],
   "source": [
    "df_twitter_users = df_twitter_users.set_index('id').join(df_user_calssification.set_index('id'))"
   ]
  },
  {
   "cell_type": "code",
   "execution_count": 179,
   "metadata": {},
   "outputs": [
    {
     "data": {
      "text/html": [
       "<div>\n",
       "<style scoped>\n",
       "    .dataframe tbody tr th:only-of-type {\n",
       "        vertical-align: middle;\n",
       "    }\n",
       "\n",
       "    .dataframe tbody tr th {\n",
       "        vertical-align: top;\n",
       "    }\n",
       "\n",
       "    .dataframe thead th {\n",
       "        text-align: right;\n",
       "    }\n",
       "</style>\n",
       "<table border=\"1\" class=\"dataframe\">\n",
       "  <thead>\n",
       "    <tr style=\"text-align: right;\">\n",
       "      <th></th>\n",
       "      <th>id_str</th>\n",
       "      <th>name</th>\n",
       "      <th>screen_name</th>\n",
       "      <th>location</th>\n",
       "      <th>description</th>\n",
       "      <th>url</th>\n",
       "      <th>protected</th>\n",
       "      <th>followers_count</th>\n",
       "      <th>friends_count</th>\n",
       "      <th>listed_count</th>\n",
       "      <th>...</th>\n",
       "      <th>has_extended_profile</th>\n",
       "      <th>default_profile</th>\n",
       "      <th>default_profile_image</th>\n",
       "      <th>following</th>\n",
       "      <th>follow_request_sent</th>\n",
       "      <th>notifications</th>\n",
       "      <th>translator_type</th>\n",
       "      <th>entities.description.urls</th>\n",
       "      <th>entities.url.urls</th>\n",
       "      <th>classification</th>\n",
       "    </tr>\n",
       "    <tr>\n",
       "      <th>id</th>\n",
       "      <th></th>\n",
       "      <th></th>\n",
       "      <th></th>\n",
       "      <th></th>\n",
       "      <th></th>\n",
       "      <th></th>\n",
       "      <th></th>\n",
       "      <th></th>\n",
       "      <th></th>\n",
       "      <th></th>\n",
       "      <th></th>\n",
       "      <th></th>\n",
       "      <th></th>\n",
       "      <th></th>\n",
       "      <th></th>\n",
       "      <th></th>\n",
       "      <th></th>\n",
       "      <th></th>\n",
       "      <th></th>\n",
       "      <th></th>\n",
       "      <th></th>\n",
       "    </tr>\n",
       "  </thead>\n",
       "  <tbody>\n",
       "    <tr>\n",
       "      <th>3022357312</th>\n",
       "      <td>3022357312</td>\n",
       "      <td>patatavis</td>\n",
       "      <td>pattavis</td>\n",
       "      <td></td>\n",
       "      <td></td>\n",
       "      <td>None</td>\n",
       "      <td>False</td>\n",
       "      <td>218</td>\n",
       "      <td>285</td>\n",
       "      <td>0</td>\n",
       "      <td>...</td>\n",
       "      <td>False</td>\n",
       "      <td>True</td>\n",
       "      <td>False</td>\n",
       "      <td>False</td>\n",
       "      <td>False</td>\n",
       "      <td>False</td>\n",
       "      <td>none</td>\n",
       "      <td>[]</td>\n",
       "      <td>NaN</td>\n",
       "      <td>bot</td>\n",
       "    </tr>\n",
       "    <tr>\n",
       "      <th>753659579582541824</th>\n",
       "      <td>753659579582541824</td>\n",
       "      <td>#1DMITAMProject ♡ #OneDirectionBestFans</td>\n",
       "      <td>PromotingLouisT</td>\n",
       "      <td>Italy</td>\n",
       "      <td>➡ here we promote all of the boys' music 🐼💖\\n\\...</td>\n",
       "      <td>https://t.co/8HvscWygQd</td>\n",
       "      <td>False</td>\n",
       "      <td>256</td>\n",
       "      <td>358</td>\n",
       "      <td>0</td>\n",
       "      <td>...</td>\n",
       "      <td>False</td>\n",
       "      <td>True</td>\n",
       "      <td>False</td>\n",
       "      <td>False</td>\n",
       "      <td>False</td>\n",
       "      <td>False</td>\n",
       "      <td>none</td>\n",
       "      <td>[]</td>\n",
       "      <td>[{'url': 'https://t.co/8HvscWygQd', 'expanded_...</td>\n",
       "      <td>bot</td>\n",
       "    </tr>\n",
       "    <tr>\n",
       "      <th>901802279623417856</th>\n",
       "      <td>901802279623417856</td>\n",
       "      <td>Anna 05600885</td>\n",
       "      <td>Anna10mila</td>\n",
       "      <td>Milano, Lombardia</td>\n",
       "      <td>Sii il cambiamento</td>\n",
       "      <td>None</td>\n",
       "      <td>False</td>\n",
       "      <td>287</td>\n",
       "      <td>346</td>\n",
       "      <td>3</td>\n",
       "      <td>...</td>\n",
       "      <td>False</td>\n",
       "      <td>True</td>\n",
       "      <td>False</td>\n",
       "      <td>False</td>\n",
       "      <td>False</td>\n",
       "      <td>False</td>\n",
       "      <td>none</td>\n",
       "      <td>[]</td>\n",
       "      <td>NaN</td>\n",
       "      <td>human</td>\n",
       "    </tr>\n",
       "    <tr>\n",
       "      <th>2982392825</th>\n",
       "      <td>2982392825</td>\n",
       "      <td>Hanna</td>\n",
       "      <td>AlleHanna</td>\n",
       "      <td></td>\n",
       "      <td></td>\n",
       "      <td>None</td>\n",
       "      <td>False</td>\n",
       "      <td>266</td>\n",
       "      <td>354</td>\n",
       "      <td>0</td>\n",
       "      <td>...</td>\n",
       "      <td>False</td>\n",
       "      <td>True</td>\n",
       "      <td>False</td>\n",
       "      <td>False</td>\n",
       "      <td>False</td>\n",
       "      <td>False</td>\n",
       "      <td>none</td>\n",
       "      <td>[]</td>\n",
       "      <td>NaN</td>\n",
       "      <td>bot</td>\n",
       "    </tr>\n",
       "    <tr>\n",
       "      <th>825436422609969152</th>\n",
       "      <td>825436422609969152</td>\n",
       "      <td>Zaffiro Blu</td>\n",
       "      <td>ZaffiroBlu3</td>\n",
       "      <td></td>\n",
       "      <td>Se puoi sognarlo puoi farlo 💙</td>\n",
       "      <td>None</td>\n",
       "      <td>False</td>\n",
       "      <td>286</td>\n",
       "      <td>564</td>\n",
       "      <td>0</td>\n",
       "      <td>...</td>\n",
       "      <td>False</td>\n",
       "      <td>True</td>\n",
       "      <td>False</td>\n",
       "      <td>False</td>\n",
       "      <td>False</td>\n",
       "      <td>False</td>\n",
       "      <td>none</td>\n",
       "      <td>[]</td>\n",
       "      <td>NaN</td>\n",
       "      <td>bot</td>\n",
       "    </tr>\n",
       "  </tbody>\n",
       "</table>\n",
       "<p>5 rows × 43 columns</p>\n",
       "</div>"
      ],
      "text/plain": [
       "                                id_str  \\\n",
       "id                                       \n",
       "3022357312                  3022357312   \n",
       "753659579582541824  753659579582541824   \n",
       "901802279623417856  901802279623417856   \n",
       "2982392825                  2982392825   \n",
       "825436422609969152  825436422609969152   \n",
       "\n",
       "                                                       name      screen_name  \\\n",
       "id                                                                             \n",
       "3022357312                                        patatavis         pattavis   \n",
       "753659579582541824  #1DMITAMProject ♡ #OneDirectionBestFans  PromotingLouisT   \n",
       "901802279623417856                            Anna 05600885       Anna10mila   \n",
       "2982392825                                            Hanna        AlleHanna   \n",
       "825436422609969152                              Zaffiro Blu      ZaffiroBlu3   \n",
       "\n",
       "                             location  \\\n",
       "id                                      \n",
       "3022357312                              \n",
       "753659579582541824              Italy   \n",
       "901802279623417856  Milano, Lombardia   \n",
       "2982392825                              \n",
       "825436422609969152                      \n",
       "\n",
       "                                                          description  \\\n",
       "id                                                                      \n",
       "3022357312                                                              \n",
       "753659579582541824  ➡ here we promote all of the boys' music 🐼💖\\n\\...   \n",
       "901802279623417856                                 Sii il cambiamento   \n",
       "2982392825                                                              \n",
       "825436422609969152                      Se puoi sognarlo puoi farlo 💙   \n",
       "\n",
       "                                        url  protected  followers_count  \\\n",
       "id                                                                        \n",
       "3022357312                             None      False              218   \n",
       "753659579582541824  https://t.co/8HvscWygQd      False              256   \n",
       "901802279623417856                     None      False              287   \n",
       "2982392825                             None      False              266   \n",
       "825436422609969152                     None      False              286   \n",
       "\n",
       "                    friends_count  listed_count  ... has_extended_profile  \\\n",
       "id                                               ...                        \n",
       "3022357312                    285             0  ...                False   \n",
       "753659579582541824            358             0  ...                False   \n",
       "901802279623417856            346             3  ...                False   \n",
       "2982392825                    354             0  ...                False   \n",
       "825436422609969152            564             0  ...                False   \n",
       "\n",
       "                    default_profile default_profile_image following  \\\n",
       "id                                                                    \n",
       "3022357312                     True                 False     False   \n",
       "753659579582541824             True                 False     False   \n",
       "901802279623417856             True                 False     False   \n",
       "2982392825                     True                 False     False   \n",
       "825436422609969152             True                 False     False   \n",
       "\n",
       "                    follow_request_sent  notifications  translator_type  \\\n",
       "id                                                                        \n",
       "3022357312                        False          False             none   \n",
       "753659579582541824                False          False             none   \n",
       "901802279623417856                False          False             none   \n",
       "2982392825                        False          False             none   \n",
       "825436422609969152                False          False             none   \n",
       "\n",
       "                   entities.description.urls  \\\n",
       "id                                             \n",
       "3022357312                                []   \n",
       "753659579582541824                        []   \n",
       "901802279623417856                        []   \n",
       "2982392825                                []   \n",
       "825436422609969152                        []   \n",
       "\n",
       "                                                    entities.url.urls  \\\n",
       "id                                                                      \n",
       "3022357312                                                        NaN   \n",
       "753659579582541824  [{'url': 'https://t.co/8HvscWygQd', 'expanded_...   \n",
       "901802279623417856                                                NaN   \n",
       "2982392825                                                        NaN   \n",
       "825436422609969152                                                NaN   \n",
       "\n",
       "                    classification  \n",
       "id                                  \n",
       "3022357312                     bot  \n",
       "753659579582541824             bot  \n",
       "901802279623417856           human  \n",
       "2982392825                     bot  \n",
       "825436422609969152             bot  \n",
       "\n",
       "[5 rows x 43 columns]"
      ]
     },
     "execution_count": 179,
     "metadata": {},
     "output_type": "execute_result"
    }
   ],
   "source": [
    "df_twitter_users.head()"
   ]
  },
  {
   "cell_type": "markdown",
   "metadata": {},
   "source": [
    "### Confirmar se todos os usuarios possuem classificação"
   ]
  },
  {
   "cell_type": "code",
   "execution_count": 186,
   "metadata": {},
   "outputs": [
    {
     "data": {
      "text/plain": [
       "bot      353\n",
       "human    340\n",
       "Name: classification, dtype: int64"
      ]
     },
     "execution_count": 186,
     "metadata": {},
     "output_type": "execute_result"
    }
   ],
   "source": [
    "df_twitter_users['classification'].value_counts()"
   ]
  },
  {
   "cell_type": "markdown",
   "metadata": {},
   "source": [
    "# Analise das variáveis"
   ]
  },
  {
   "cell_type": "code",
   "execution_count": 403,
   "metadata": {},
   "outputs": [
    {
     "data": {
      "text/plain": [
       "Index(['id_str', 'name', 'screen_name', 'location', 'description', 'url',\n",
       "       'protected', 'followers_count', 'friends_count', 'listed_count',\n",
       "       'created_at', 'favourites_count', 'utc_offset', 'time_zone',\n",
       "       'geo_enabled', 'verified', 'statuses_count', 'lang',\n",
       "       'contributors_enabled', 'is_translator', 'is_translation_enabled',\n",
       "       'profile_background_color', 'profile_background_image_url',\n",
       "       'profile_background_image_url_https', 'profile_background_tile',\n",
       "       'profile_image_url', 'profile_image_url_https', 'profile_banner_url',\n",
       "       'profile_link_color', 'profile_sidebar_border_color',\n",
       "       'profile_sidebar_fill_color', 'profile_text_color',\n",
       "       'profile_use_background_image', 'has_extended_profile',\n",
       "       'default_profile', 'default_profile_image', 'following',\n",
       "       'follow_request_sent', 'notifications', 'translator_type',\n",
       "       'entities.description.urls', 'entities.url.urls', 'classification'],\n",
       "      dtype='object')"
      ]
     },
     "execution_count": 403,
     "metadata": {},
     "output_type": "execute_result"
    }
   ],
   "source": [
    "df_twitter_users.keys()"
   ]
  },
  {
   "cell_type": "markdown",
   "metadata": {},
   "source": [
    "## followers_count\n",
    "### The number of followers this account currently has"
   ]
  },
  {
   "cell_type": "code",
   "execution_count": 606,
   "metadata": {},
   "outputs": [
    {
     "data": {
      "text/plain": [
       "count       693.000000\n",
       "mean       2022.906205\n",
       "std       14874.114129\n",
       "min           0.000000\n",
       "25%         119.000000\n",
       "50%         286.000000\n",
       "75%         627.000000\n",
       "max      310877.000000\n",
       "Name: followers_count, dtype: float64"
      ]
     },
     "execution_count": 606,
     "metadata": {},
     "output_type": "execute_result"
    }
   ],
   "source": [
    "df_twitter_users['followers_count'].describe()"
   ]
  },
  {
   "cell_type": "code",
   "execution_count": 646,
   "metadata": {
    "scrolled": true
   },
   "outputs": [
    {
     "data": {
      "image/png": "[encoded data removed]",
      "text/plain": [
       "<Figure size 432x288 with 1 Axes>"
      ]
     },
     "metadata": {},
     "output_type": "display_data"
    }
   ],
   "source": [
    "sns.set(style=\"darkgrid\")\n",
    "sns.boxplot(x= df_twitter_users['classification'], y= df_twitter_users['followers_count']); "
   ]
  },
  {
   "cell_type": "code",
   "execution_count": 608,
   "metadata": {},
   "outputs": [
    {
     "data": {
      "image/png": "[encoded data removed]",
      "text/plain": [
       "<Figure size 432x288 with 2 Axes>"
      ]
     },
     "metadata": {},
     "output_type": "display_data"
    }
   ],
   "source": [
    "fig, axs = plt.pyplot.subplots(1,2);\n",
    "plt.pyplot.subplots_adjust(wspace = 0.8);\n",
    "\n",
    "# Mediana\n",
    "sns.barplot(x= 'classification', y= 'followers_median', ax=axs[0],\n",
    "    data=(df_twitter_users\n",
    "              .groupby(['classification'])\n",
    "              .agg(followers_median = ('followers_count','median'))\n",
    "              .reset_index()\n",
    "        )\n",
    "    );\n",
    "\n",
    "# Media\n",
    "sns.barplot(x= 'classification', y= 'followers_mean', ax=axs[1],\n",
    "    data=(df_twitter_users\n",
    "              .groupby(['classification'])\n",
    "              .agg(followers_mean = ('followers_count','mean'))\n",
    "              .reset_index()\n",
    "        )\n",
    "    );"
   ]
  },
  {
   "cell_type": "markdown",
   "metadata": {},
   "source": [
    "## default_profile_image\n",
    "### When true, indicates that the user has not uploaded their own profile image and a default image is used instead"
   ]
  },
  {
   "cell_type": "code",
   "execution_count": 609,
   "metadata": {},
   "outputs": [
    {
     "data": {
      "image/png": "[encoded data removed]",
      "text/plain": [
       "<Figure size 432x288 with 2 Axes>"
      ]
     },
     "metadata": {},
     "output_type": "display_data"
    }
   ],
   "source": [
    "fig, axs = plt.pyplot.subplots(1,2);\n",
    "plt.pyplot.subplots_adjust(wspace = 0.5, right = 2);\n",
    "\n",
    "sns.barplot(x= 'classification', y= 'default_profile_image_Count',hue='default_profile_image', ax = axs[0], data = \n",
    "    (\n",
    "        df_twitter_users\n",
    "        .groupby(['classification','default_profile_image'])\n",
    "        .agg(default_profile_image_Count = ('default_profile_image', 'count'))\n",
    "        .reset_index()\n",
    "    )\n",
    ");\n",
    "\n",
    "sns.barplot(x= 'classification', y= 'True_default_profile_image_Count', ax = axs[1], data = \n",
    "    (\n",
    "        df_twitter_users\n",
    "        .query('default_profile_image == True')\n",
    "        .groupby(['classification','default_profile_image'])\n",
    "        .agg(True_default_profile_image_Count = ('default_profile_image', 'count'))\n",
    "        .reset_index()\n",
    "    )\n",
    ");"
   ]
  },
  {
   "cell_type": "markdown",
   "metadata": {},
   "source": [
    "###### Bots e Humanos personalizam a imagem do perfil na maioria das vezes, porém, separando os perfis que não persoanlizam, os bots se destacam."
   ]
  },
  {
   "cell_type": "markdown",
   "metadata": {},
   "source": [
    "## favourites_count\n",
    "#### The number of Tweets this user has liked in the account’s lifetime"
   ]
  },
  {
   "cell_type": "code",
   "execution_count": 610,
   "metadata": {},
   "outputs": [
    {
     "data": {
      "text/plain": [
       "count       693.000000\n",
       "mean      15313.503608\n",
       "std       37376.824828\n",
       "min           0.000000\n",
       "25%        1493.000000\n",
       "50%        4851.000000\n",
       "75%       14772.000000\n",
       "max      564333.000000\n",
       "Name: favourites_count, dtype: float64"
      ]
     },
     "execution_count": 610,
     "metadata": {},
     "output_type": "execute_result"
    }
   ],
   "source": [
    "df_twitter_users['favourites_count'].describe()"
   ]
  },
  {
   "cell_type": "code",
   "execution_count": 611,
   "metadata": {},
   "outputs": [
    {
     "data": {
      "image/png": "[encoded data removed]",
      "text/plain": [
       "<Figure size 432x288 with 2 Axes>"
      ]
     },
     "metadata": {},
     "output_type": "display_data"
    }
   ],
   "source": [
    "fig, axs = plt.pyplot.subplots(1,2);\n",
    "plt.pyplot.subplots_adjust(wspace = 0.8);\n",
    "\n",
    "# Mediana\n",
    "sns.barplot(x= 'classification', y= 'favourites_median', ax=axs[0],\n",
    "    data=(df_twitter_users\n",
    "              .groupby(['classification'])\n",
    "              .agg(favourites_median = ('favourites_count','median'))\n",
    "              .reset_index()\n",
    "        )\n",
    "    );\n",
    "\n",
    "# Media\n",
    "sns.barplot(x= 'classification', y= 'favourites_mean', ax=axs[1],\n",
    "    data=(df_twitter_users\n",
    "              .groupby(['classification'])\n",
    "              .agg(favourites_mean = ('favourites_count','mean'))\n",
    "              .reset_index()\n",
    "        )\n",
    "    );"
   ]
  },
  {
   "cell_type": "markdown",
   "metadata": {},
   "source": [
    "# Profile description (The user-defined UTF-8 string describing their account)\n",
    "#### Relação de Bots e humanos que preenchem a descrião do perfil"
   ]
  },
  {
   "cell_type": "code",
   "execution_count": 612,
   "metadata": {},
   "outputs": [],
   "source": [
    "# Cria coluna empty_profile (quando branco = True)\n",
    "\n",
    "df_twitter_users = (df_twitter_users\n",
    "    .assign(empty_profile = np.where(df_twitter_users['description'] == '', True, False))\n",
    ")"
   ]
  },
  {
   "cell_type": "code",
   "execution_count": 613,
   "metadata": {},
   "outputs": [
    {
     "data": {
      "image/png": "[encoded data removed]",
      "text/plain": [
       "<Figure size 432x288 with 1 Axes>"
      ]
     },
     "metadata": {},
     "output_type": "display_data"
    }
   ],
   "source": [
    "sns.barplot(x= 'classification', y= 'Profile_Personalization_Count',hue='empty_profile' ,data = \n",
    "(\n",
    "    df_twitter_users\n",
    "    .groupby(['classification','empty_profile'])\n",
    "    .agg(Profile_Personalization_Count = ('empty_profile', 'count'))\n",
    "    .reset_index()\n",
    ")\n",
    "           );"
   ]
  },
  {
   "cell_type": "markdown",
   "metadata": {},
   "source": [
    "## URL\n",
    "#### A URL provided by the user in association with their profile"
   ]
  },
  {
   "cell_type": "code",
   "execution_count": 614,
   "metadata": {},
   "outputs": [],
   "source": [
    "# Cria coluna url_provided True quando <> nulo\n",
    "\n",
    "df_twitter_users =(\n",
    "    df_twitter_users\n",
    "    .assign(url_provided = (np.where(df_twitter_users['url'].isnull(), False, True)))\n",
    ")"
   ]
  },
  {
   "cell_type": "code",
   "execution_count": 623,
   "metadata": {},
   "outputs": [
    {
     "data": {
      "image/png": "[encoded data removed]",
      "text/plain": [
       "<Figure size 432x288 with 2 Axes>"
      ]
     },
     "metadata": {},
     "output_type": "display_data"
    }
   ],
   "source": [
    "fig, axs = plt.pyplot.subplots(1,2);\n",
    "plt.pyplot.subplots_adjust(wspace = 0.2, left=6, right=8);\n",
    "\n",
    "sns.barplot(x= 'classification', y= 'url_provided_Count', hue='url_provided', ax = axs[0] ,data = \n",
    "    (\n",
    "        df_twitter_users\n",
    "        .groupby(['classification','url_provided'])\n",
    "        .agg(url_provided_Count = ('url_provided', 'count'))\n",
    "        .reset_index()\n",
    "    )\n",
    ");\n",
    "\n",
    "sns.barplot(x= 'classification', y= 'True_url_provided_Count', ax = axs[1] ,data = \n",
    "    (\n",
    "        df_twitter_users\n",
    "        .query('url_provided == True')\n",
    "        .groupby(['classification','url_provided'])\n",
    "        .agg(True_url_provided_Count = ('url_provided', 'count'))\n",
    "        .reset_index()\n",
    "    )\n",
    ");"
   ]
  },
  {
   "cell_type": "markdown",
   "metadata": {},
   "source": [
    "###### Bots e Humanos não costumam informar URL no perfil, porém, humanos informam URL mais do que bots ."
   ]
  },
  {
   "cell_type": "markdown",
   "metadata": {},
   "source": [
    "## friends_count\n",
    "#### The number of users this account is following (AKA their “followings”)"
   ]
  },
  {
   "cell_type": "code",
   "execution_count": 616,
   "metadata": {},
   "outputs": [
    {
     "data": {
      "text/plain": [
       "count      693.000000\n",
       "mean       944.694084\n",
       "std       3786.378031\n",
       "min          0.000000\n",
       "25%        118.000000\n",
       "50%        387.000000\n",
       "75%        845.000000\n",
       "max      82900.000000\n",
       "Name: friends_count, dtype: float64"
      ]
     },
     "execution_count": 616,
     "metadata": {},
     "output_type": "execute_result"
    }
   ],
   "source": [
    "df_twitter_users['friends_count'].describe()"
   ]
  },
  {
   "cell_type": "code",
   "execution_count": 644,
   "metadata": {},
   "outputs": [
    {
     "data": {
      "image/png": "[encoded data removed]",
      "text/plain": [
       "<Figure size 432x288 with 1 Axes>"
      ]
     },
     "metadata": {},
     "output_type": "display_data"
    }
   ],
   "source": [
    "sns.boxplot(x=df_twitter_users['classification'], y=df_twitter_users['friends_count']);"
   ]
  },
  {
   "cell_type": "code",
   "execution_count": 618,
   "metadata": {},
   "outputs": [
    {
     "data": {
      "image/png": "[encoded data removed]",
      "text/plain": [
       "<Figure size 432x288 with 1 Axes>"
      ]
     },
     "metadata": {},
     "output_type": "display_data"
    }
   ],
   "source": [
    "sns.barplot(x= 'classification', y= 'friends_count_median', data =\n",
    "    (\n",
    "        df_twitter_users\n",
    "            .groupby(['classification'])\n",
    "            .agg(friends_count_median = ('friends_count','median'))\n",
    "            .reset_index()\n",
    "    )\n",
    ").set_title('Humanos Seguem mais Contas do que Bots');"
   ]
  },
  {
   "cell_type": "code",
   "execution_count": 619,
   "metadata": {},
   "outputs": [],
   "source": [
    "# Novo dataset sem os grandes outliers\n",
    "\n",
    "df_twitter_users_no_outliers_1 = df_twitter_users.query('followers_count < 50000 and friends_count < 20000')\n",
    "df_twitter_users_no_outliers_2 = df_twitter_users.query('followers_count < 1000 and friends_count < 1000')"
   ]
  },
  {
   "cell_type": "code",
   "execution_count": 620,
   "metadata": {},
   "outputs": [
    {
     "data": {
      "image/png": "[encoded data removed]",
      "text/plain": [
       "<Figure size 432x288 with 2 Axes>"
      ]
     },
     "metadata": {},
     "output_type": "display_data"
    }
   ],
   "source": [
    "fig, axs = plt.pyplot.subplots(1,2);\n",
    "plt.pyplot.subplots_adjust(wspace = 0.2, left=6, right=8);\n",
    "\n",
    "sns.scatterplot(y=df_twitter_users_no_outliers_1['followers_count'], \n",
    "                x=df_twitter_users_no_outliers_1['friends_count'], \n",
    "                hue = df_twitter_users['classification'],\n",
    "               ax = axs[0]).set_title('Seguindo X Seguidores');\n",
    "\n",
    "sns.scatterplot(y=df_twitter_users_no_outliers_2['followers_count'], \n",
    "                x=df_twitter_users_no_outliers_2['friends_count'], \n",
    "                hue = df_twitter_users['classification'],\n",
    "               ax = axs[1]).set_title('Seguindo X Seguidores - até 1000 seguidores');\n"
   ]
  },
  {
   "cell_type": "markdown",
   "metadata": {},
   "source": [
    "## listed_count\n",
    "#### The number of public lists that this user is a member of"
   ]
  },
  {
   "cell_type": "code",
   "execution_count": 634,
   "metadata": {},
   "outputs": [
    {
     "data": {
      "text/plain": [
       "count     693.000000\n",
       "mean       39.043290\n",
       "std       358.638689\n",
       "min         0.000000\n",
       "25%         0.000000\n",
       "50%         1.000000\n",
       "75%         8.000000\n",
       "max      8390.000000\n",
       "Name: listed_count, dtype: float64"
      ]
     },
     "execution_count": 634,
     "metadata": {},
     "output_type": "execute_result"
    }
   ],
   "source": [
    "df_twitter_users['listed_count'].describe()"
   ]
  },
  {
   "cell_type": "code",
   "execution_count": 643,
   "metadata": {},
   "outputs": [
    {
     "data": {
      "text/html": [
       "<div>\n",
       "<style scoped>\n",
       "    .dataframe tbody tr th:only-of-type {\n",
       "        vertical-align: middle;\n",
       "    }\n",
       "\n",
       "    .dataframe tbody tr th {\n",
       "        vertical-align: top;\n",
       "    }\n",
       "\n",
       "    .dataframe thead th {\n",
       "        text-align: right;\n",
       "    }\n",
       "</style>\n",
       "<table border=\"1\" class=\"dataframe\">\n",
       "  <thead>\n",
       "    <tr style=\"text-align: right;\">\n",
       "      <th></th>\n",
       "      <th>classification</th>\n",
       "      <th>list_count</th>\n",
       "    </tr>\n",
       "  </thead>\n",
       "  <tbody>\n",
       "    <tr>\n",
       "      <th>0</th>\n",
       "      <td>bot</td>\n",
       "      <td>38.679887</td>\n",
       "    </tr>\n",
       "    <tr>\n",
       "      <th>1</th>\n",
       "      <td>human</td>\n",
       "      <td>39.420588</td>\n",
       "    </tr>\n",
       "  </tbody>\n",
       "</table>\n",
       "</div>"
      ],
      "text/plain": [
       "  classification  list_count\n",
       "0            bot   38.679887\n",
       "1          human   39.420588"
      ]
     },
     "execution_count": 643,
     "metadata": {},
     "output_type": "execute_result"
    }
   ],
   "source": [
    "sns.\n",
    "(\n",
    "    df_twitter_users\n",
    "        .groupby('classification')\n",
    "        .agg(list_count = ('listed_count','mean'))\n",
    "        .reset_index()\n",
    ")"
   ]
  },
  {
   "cell_type": "code",
   "execution_count": null,
   "metadata": {},
   "outputs": [],
   "source": []
  }
 ],
 "metadata": {
  "kernelspec": {
   "display_name": "Python 3",
   "language": "python",
   "name": "python3"
  },
  "language_info": {
   "codemirror_mode": {
    "name": "ipython",
    "version": 3
   },
   "file_extension": ".py",
   "mimetype": "text/x-python",
   "name": "python",
   "nbconvert_exporter": "python",
   "pygments_lexer": "ipython3",
   "version": "3.7.6"
  }
 },
 "nbformat": 4,
 "nbformat_minor": 4
}
