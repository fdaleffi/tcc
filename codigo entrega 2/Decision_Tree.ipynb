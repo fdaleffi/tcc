{
 "cells": [
  {
   "cell_type": "markdown",
   "metadata": {},
   "source": [
    "# Técnicas de Machine Learning para Classificação Supervisionada de Contas Bots do Twitter.\n",
    "\n",
    "## FIA LABDATA - Turma 13\n",
    "\n",
    "### Fabio Daleffi"
   ]
  },
  {
   "cell_type": "code",
   "execution_count": 1,
   "metadata": {},
   "outputs": [],
   "source": [
    "import numpy as np\n",
    "import pandas as pd\n",
    "import matplotlib.pyplot as plt\n",
    "import seaborn as sns\n",
    "\n",
    "pd.options.display.max_columns = None"
   ]
  },
  {
   "cell_type": "code",
   "execution_count": 2,
   "metadata": {},
   "outputs": [],
   "source": [
    "df_original = pd.read_csv('classified_twitter_accounts.csv')"
   ]
  },
  {
   "cell_type": "code",
   "execution_count": 3,
   "metadata": {},
   "outputs": [
    {
     "data": {
      "text/plain": [
       "Index(['id', 'name', 'screen_name', 'statuses_count', 'followers_count',\n",
       "       'friends_count', 'favourites_count', 'listed_count', 'lang',\n",
       "       'default_profile', 'default_profile_image', 'geo_enabled', 'protected',\n",
       "       'verified', 'classification', 'dataset', 'screen_name_total_len',\n",
       "       'screen_name_num_len', 'name_total_len', 'name_num_len', 'is_url_null',\n",
       "       'is_location_null', 'profile_banner_url_null', 'profile_image_url_null',\n",
       "       'description_null'],\n",
       "      dtype='object')"
      ]
     },
     "execution_count": 3,
     "metadata": {},
     "output_type": "execute_result"
    }
   ],
   "source": [
    "df_original.columns"
   ]
  },
  {
   "cell_type": "code",
   "execution_count": 4,
   "metadata": {},
   "outputs": [
    {
     "data": {
      "text/plain": [
       "(14368, 25)"
      ]
     },
     "execution_count": 4,
     "metadata": {},
     "output_type": "execute_result"
    }
   ],
   "source": [
    "df_original.shape"
   ]
  },
  {
   "cell_type": "code",
   "execution_count": 5,
   "metadata": {},
   "outputs": [],
   "source": [
    "# DROP FEATURES LIST\n",
    "\n",
    "#ALTA CARDINALIDADE\n",
    "alta_card = ['id','name', 'screen_name']\n",
    "\n",
    "# ALTA CORRELACAO (IDENTIFICADA NA ANALISE EXPLORATORIA)\n",
    "correlacao = ['listed_count']\n",
    "\n",
    "construidas = [\n",
    "    'screen_name_total_len',  \n",
    "    'screen_name_num_len',       \n",
    "    'name_total_len',            \n",
    "    'name_num_len',              \n",
    "    'is_url_null',               \n",
    "    'is_location_null',          \n",
    "    'profile_banner_url_null',   \n",
    "    'profile_image_url_null',    \n",
    "    'description_null'\n",
    "] \n",
    "\n",
    "\n",
    "drop_features = alta_card + correlacao + construidas\n",
    "\n",
    "# VARIAVEIS DE CONTROLE DO DATASET\n",
    "drop_features.append('dataset')\n",
    "\n",
    "df_accounts = df_original.drop(drop_features, axis=1)"
   ]
  },
  {
   "cell_type": "code",
   "execution_count": 6,
   "metadata": {},
   "outputs": [],
   "source": [
    "# target\n",
    "df_accounts['target'] = np.where(df_accounts.classification == \"bot\", 1, 0)\n",
    "df_accounts.drop('classification', axis=1, inplace=True)"
   ]
  },
  {
   "cell_type": "code",
   "execution_count": 7,
   "metadata": {},
   "outputs": [
    {
     "data": {
      "text/plain": [
       "statuses_count            int64\n",
       "followers_count           int64\n",
       "friends_count             int64\n",
       "favourites_count          int64\n",
       "lang                     object\n",
       "default_profile            bool\n",
       "default_profile_image      bool\n",
       "geo_enabled                bool\n",
       "protected                  bool\n",
       "verified                   bool\n",
       "target                    int32\n",
       "dtype: object"
      ]
     },
     "execution_count": 7,
     "metadata": {},
     "output_type": "execute_result"
    }
   ],
   "source": [
    "df_accounts.dtypes"
   ]
  },
  {
   "cell_type": "code",
   "execution_count": 8,
   "metadata": {},
   "outputs": [
    {
     "data": {
      "text/plain": [
       "(14368, 11)"
      ]
     },
     "execution_count": 8,
     "metadata": {},
     "output_type": "execute_result"
    }
   ],
   "source": [
    "df_accounts.shape"
   ]
  },
  {
   "cell_type": "code",
   "execution_count": 9,
   "metadata": {},
   "outputs": [
    {
     "data": {
      "text/html": [
       "<div>\n",
       "<style scoped>\n",
       "    .dataframe tbody tr th:only-of-type {\n",
       "        vertical-align: middle;\n",
       "    }\n",
       "\n",
       "    .dataframe tbody tr th {\n",
       "        vertical-align: top;\n",
       "    }\n",
       "\n",
       "    .dataframe thead th {\n",
       "        text-align: right;\n",
       "    }\n",
       "</style>\n",
       "<table border=\"1\" class=\"dataframe\">\n",
       "  <thead>\n",
       "    <tr style=\"text-align: right;\">\n",
       "      <th></th>\n",
       "      <th>statuses_count</th>\n",
       "      <th>followers_count</th>\n",
       "      <th>friends_count</th>\n",
       "      <th>favourites_count</th>\n",
       "      <th>target</th>\n",
       "    </tr>\n",
       "  </thead>\n",
       "  <tbody>\n",
       "    <tr>\n",
       "      <th>count</th>\n",
       "      <td>14368.000000</td>\n",
       "      <td>1.436800e+04</td>\n",
       "      <td>14368.000000</td>\n",
       "      <td>14368.000000</td>\n",
       "      <td>14368.000000</td>\n",
       "    </tr>\n",
       "    <tr>\n",
       "      <th>mean</th>\n",
       "      <td>5063.190910</td>\n",
       "      <td>8.682774e+02</td>\n",
       "      <td>589.318834</td>\n",
       "      <td>1145.288280</td>\n",
       "      <td>0.758213</td>\n",
       "    </tr>\n",
       "    <tr>\n",
       "      <th>std</th>\n",
       "      <td>17493.409898</td>\n",
       "      <td>2.688472e+04</td>\n",
       "      <td>2665.832959</td>\n",
       "      <td>6036.894173</td>\n",
       "      <td>0.428181</td>\n",
       "    </tr>\n",
       "    <tr>\n",
       "      <th>min</th>\n",
       "      <td>0.000000</td>\n",
       "      <td>0.000000e+00</td>\n",
       "      <td>0.000000</td>\n",
       "      <td>0.000000</td>\n",
       "      <td>0.000000</td>\n",
       "    </tr>\n",
       "    <tr>\n",
       "      <th>25%</th>\n",
       "      <td>31.000000</td>\n",
       "      <td>6.000000e+00</td>\n",
       "      <td>42.000000</td>\n",
       "      <td>0.000000</td>\n",
       "      <td>1.000000</td>\n",
       "    </tr>\n",
       "    <tr>\n",
       "      <th>50%</th>\n",
       "      <td>63.000000</td>\n",
       "      <td>2.500000e+01</td>\n",
       "      <td>250.000000</td>\n",
       "      <td>0.000000</td>\n",
       "      <td>1.000000</td>\n",
       "    </tr>\n",
       "    <tr>\n",
       "      <th>75%</th>\n",
       "      <td>1365.250000</td>\n",
       "      <td>3.320000e+02</td>\n",
       "      <td>538.000000</td>\n",
       "      <td>9.000000</td>\n",
       "      <td>1.000000</td>\n",
       "    </tr>\n",
       "    <tr>\n",
       "      <th>max</th>\n",
       "      <td>399555.000000</td>\n",
       "      <td>2.991573e+06</td>\n",
       "      <td>211890.000000</td>\n",
       "      <td>313954.000000</td>\n",
       "      <td>1.000000</td>\n",
       "    </tr>\n",
       "  </tbody>\n",
       "</table>\n",
       "</div>"
      ],
      "text/plain": [
       "       statuses_count  followers_count  friends_count  favourites_count  \\\n",
       "count    14368.000000     1.436800e+04   14368.000000      14368.000000   \n",
       "mean      5063.190910     8.682774e+02     589.318834       1145.288280   \n",
       "std      17493.409898     2.688472e+04    2665.832959       6036.894173   \n",
       "min          0.000000     0.000000e+00       0.000000          0.000000   \n",
       "25%         31.000000     6.000000e+00      42.000000          0.000000   \n",
       "50%         63.000000     2.500000e+01     250.000000          0.000000   \n",
       "75%       1365.250000     3.320000e+02     538.000000          9.000000   \n",
       "max     399555.000000     2.991573e+06  211890.000000     313954.000000   \n",
       "\n",
       "             target  \n",
       "count  14368.000000  \n",
       "mean       0.758213  \n",
       "std        0.428181  \n",
       "min        0.000000  \n",
       "25%        1.000000  \n",
       "50%        1.000000  \n",
       "75%        1.000000  \n",
       "max        1.000000  "
      ]
     },
     "execution_count": 9,
     "metadata": {},
     "output_type": "execute_result"
    }
   ],
   "source": [
    "df_accounts.describe()"
   ]
  },
  {
   "cell_type": "markdown",
   "metadata": {},
   "source": [
    "# CATEGORIZANDO AS VARIÁVEIS"
   ]
  },
  {
   "cell_type": "code",
   "execution_count": 10,
   "metadata": {},
   "outputs": [],
   "source": [
    "df = df_accounts.copy()"
   ]
  },
  {
   "cell_type": "code",
   "execution_count": 11,
   "metadata": {},
   "outputs": [],
   "source": [
    "df['statuses_count'] = pd.cut(df.statuses_count, bins=[-1,31,63,1365,399555], labels=[\n",
    "     '1 - DE 0 ATE 31'\n",
    "    ,'2 - DE 32 ATE 63'\n",
    "    ,'3 - DE 64 ATE 1365'\n",
    "    ,'4 - ACIMA DE 1365'\n",
    "] )"
   ]
  },
  {
   "cell_type": "code",
   "execution_count": 12,
   "metadata": {},
   "outputs": [],
   "source": [
    "df['followers_count'] = pd.cut(df.followers_count, bins=[-1,6,25,332,2991573], labels=[\n",
    "     '1 - DE 0 ATE 6'\n",
    "    ,'2 - DE 7 ATE 25'\n",
    "    ,'3 - DE 26 ATE 332'\n",
    "    ,'4 - ACIMA DE 332'\n",
    "] )"
   ]
  },
  {
   "cell_type": "code",
   "execution_count": 13,
   "metadata": {},
   "outputs": [],
   "source": [
    "df['friends_count'] = pd.cut(df.friends_count, bins=[-1,42,250,538,211890], labels=[\n",
    "     '1 - DE 0 ATE 42'\n",
    "    ,'2 - DE 43 ATE 250'\n",
    "    ,'3 - DE 251 ATE 538'\n",
    "    ,'4 - ACIMA DE 538'\n",
    "])"
   ]
  },
  {
   "cell_type": "code",
   "execution_count": 14,
   "metadata": {},
   "outputs": [],
   "source": [
    "df['favourites_count'] = pd.cut(df.favourites_count, bins=[-1,9,313954], labels=[\n",
    "     '1 - DE 0 ATE 9'\n",
    "    ,'2 - ACIMA DE 9'\n",
    "])"
   ]
  },
  {
   "cell_type": "code",
   "execution_count": 15,
   "metadata": {},
   "outputs": [],
   "source": [
    "df['lang'] = np.where(df.lang == \"en\", 'ENGLISH', 'OTHERS')\n",
    "df['lang'] = df['lang'].astype('category')"
   ]
  },
  {
   "cell_type": "markdown",
   "metadata": {},
   "source": [
    "# Criar Dummies"
   ]
  },
  {
   "cell_type": "code",
   "execution_count": 16,
   "metadata": {},
   "outputs": [],
   "source": [
    "cat_vars = df.drop('target', axis=1).columns\n",
    "\n",
    "for var in cat_vars:\n",
    "\n",
    "    cat_list='var' +'_'+ var\n",
    "    cat_list = pd.get_dummies(df[var], prefix = var, drop_first=True)\n",
    "    df=df.join(cat_list)\n",
    "\n",
    "df.drop(cat_vars, axis = 1, inplace = True)"
   ]
  },
  {
   "cell_type": "markdown",
   "metadata": {},
   "source": [
    "# Decision Tree"
   ]
  },
  {
   "cell_type": "code",
   "execution_count": 17,
   "metadata": {},
   "outputs": [],
   "source": [
    "X = df.drop('target', axis = 1)\n",
    "y = df.target\n",
    "\n",
    "## BACKWARD FEATURE REMOVAL\n",
    "drop_list = [\n",
    "    'protected_True',\n",
    "    'verified_True',\n",
    "    'statuses_count_2 - DE 32 ATE 63',\n",
    "    'default_profile_image_True'\n",
    "]\n",
    "\n",
    "X.drop(drop_list, axis = 1, inplace = True)"
   ]
  },
  {
   "cell_type": "markdown",
   "metadata": {},
   "source": [
    "## Train Test Split"
   ]
  },
  {
   "cell_type": "code",
   "execution_count": 19,
   "metadata": {},
   "outputs": [],
   "source": [
    "from sklearn.model_selection import train_test_split\n",
    "\n",
    "X_train, X_test, y_train, y_test = train_test_split(X, y, test_size = 0.2, random_state = 42)"
   ]
  },
  {
   "cell_type": "code",
   "execution_count": 40,
   "metadata": {},
   "outputs": [
    {
     "data": {
      "text/plain": [
       "DecisionTreeClassifier(ccp_alpha=0.0, class_weight=None, criterion='gini',\n",
       "                       max_depth=3, max_features=None, max_leaf_nodes=None,\n",
       "                       min_impurity_decrease=0.0, min_impurity_split=None,\n",
       "                       min_samples_leaf=1, min_samples_split=50,\n",
       "                       min_weight_fraction_leaf=0.0, presort='deprecated',\n",
       "                       random_state=None, splitter='best')"
      ]
     },
     "execution_count": 40,
     "metadata": {},
     "output_type": "execute_result"
    }
   ],
   "source": [
    "from sklearn.tree import DecisionTreeClassifier\n",
    "dt = DecisionTreeClassifier(max_depth=3, min_samples_split=50)\n",
    "dt.fit(X_train, y_train)"
   ]
  },
  {
   "cell_type": "code",
   "execution_count": 43,
   "metadata": {},
   "outputs": [
    {
     "name": "stdout",
     "output_type": "stream",
     "text": [
      "Accuracy no treino: 0.97\n",
      "Accuracy no teste: 0.97\n"
     ]
    }
   ],
   "source": [
    "from sklearn.metrics import accuracy_score\n",
    "\n",
    "y_train_predictions = dt.predict(X_train)\n",
    "y_teste_predictions = dt.predict(X_test)\n",
    "# print(accuracy_score(y_test, y_teste_predictions))\n",
    "# print(accuracy_score(y_train, y_train_predictions))\n",
    "\n",
    "\n",
    "print('Accuracy no treino: {:.2f}'.format(accuracy_score(y_test, y_teste_predictions)))\n",
    "print('Accuracy no teste: {:.2f}'.format(accuracy_score(y_train, y_train_predictions)))"
   ]
  },
  {
   "cell_type": "code",
   "execution_count": 44,
   "metadata": {},
   "outputs": [
    {
     "data": {
      "text/html": [
       "<div>\n",
       "<style scoped>\n",
       "    .dataframe tbody tr th:only-of-type {\n",
       "        vertical-align: middle;\n",
       "    }\n",
       "\n",
       "    .dataframe tbody tr th {\n",
       "        vertical-align: top;\n",
       "    }\n",
       "\n",
       "    .dataframe thead th {\n",
       "        text-align: right;\n",
       "    }\n",
       "</style>\n",
       "<table border=\"1\" class=\"dataframe\">\n",
       "  <thead>\n",
       "    <tr style=\"text-align: right;\">\n",
       "      <th></th>\n",
       "      <th>column</th>\n",
       "      <th>feature_importances</th>\n",
       "    </tr>\n",
       "  </thead>\n",
       "  <tbody>\n",
       "    <tr>\n",
       "      <th>8</th>\n",
       "      <td>favourites_count_2 - ACIMA DE 9</td>\n",
       "      <td>0.986967</td>\n",
       "    </tr>\n",
       "    <tr>\n",
       "      <th>11</th>\n",
       "      <td>geo_enabled_True</td>\n",
       "      <td>0.007899</td>\n",
       "    </tr>\n",
       "    <tr>\n",
       "      <th>9</th>\n",
       "      <td>lang_OTHERS</td>\n",
       "      <td>0.003977</td>\n",
       "    </tr>\n",
       "    <tr>\n",
       "      <th>1</th>\n",
       "      <td>statuses_count_4 - ACIMA DE 1365</td>\n",
       "      <td>0.000678</td>\n",
       "    </tr>\n",
       "    <tr>\n",
       "      <th>3</th>\n",
       "      <td>followers_count_3 - DE 26 ATE 332</td>\n",
       "      <td>0.000479</td>\n",
       "    </tr>\n",
       "    <tr>\n",
       "      <th>0</th>\n",
       "      <td>statuses_count_3 - DE 64 ATE 1365</td>\n",
       "      <td>0.000000</td>\n",
       "    </tr>\n",
       "    <tr>\n",
       "      <th>2</th>\n",
       "      <td>followers_count_2 - DE 7 ATE 25</td>\n",
       "      <td>0.000000</td>\n",
       "    </tr>\n",
       "    <tr>\n",
       "      <th>4</th>\n",
       "      <td>followers_count_4 - ACIMA DE 332</td>\n",
       "      <td>0.000000</td>\n",
       "    </tr>\n",
       "    <tr>\n",
       "      <th>5</th>\n",
       "      <td>friends_count_2 - DE 43 ATE 250</td>\n",
       "      <td>0.000000</td>\n",
       "    </tr>\n",
       "    <tr>\n",
       "      <th>6</th>\n",
       "      <td>friends_count_3 - DE 251 ATE 538</td>\n",
       "      <td>0.000000</td>\n",
       "    </tr>\n",
       "  </tbody>\n",
       "</table>\n",
       "</div>"
      ],
      "text/plain": [
       "                               column  feature_importances\n",
       "8     favourites_count_2 - ACIMA DE 9             0.986967\n",
       "11                   geo_enabled_True             0.007899\n",
       "9                         lang_OTHERS             0.003977\n",
       "1    statuses_count_4 - ACIMA DE 1365             0.000678\n",
       "3   followers_count_3 - DE 26 ATE 332             0.000479\n",
       "0   statuses_count_3 - DE 64 ATE 1365             0.000000\n",
       "2     followers_count_2 - DE 7 ATE 25             0.000000\n",
       "4    followers_count_4 - ACIMA DE 332             0.000000\n",
       "5     friends_count_2 - DE 43 ATE 250             0.000000\n",
       "6    friends_count_3 - DE 251 ATE 538             0.000000"
      ]
     },
     "execution_count": 44,
     "metadata": {},
     "output_type": "execute_result"
    }
   ],
   "source": [
    "columns = X_test.columns\n",
    "feature_importances = pd.Series(dt.feature_importances_)\n",
    "\n",
    "df_feature_importances = pd.DataFrame({\"column\":columns,\"feature_importances\" : feature_importances})\n",
    "df_feature_importances.sort_values(by = 'feature_importances', ascending=False).head(10)"
   ]
  },
  {
   "cell_type": "code",
   "execution_count": 45,
   "metadata": {},
   "outputs": [
    {
     "data": {
      "image/png": "[encoded data removed]",
      "text/plain": [
       "<Figure size 1800x576 with 1 Axes>"
      ]
     },
     "metadata": {
      "needs_background": "light"
     },
     "output_type": "display_data"
    }
   ],
   "source": [
    "from sklearn.tree import plot_tree\n",
    "\n",
    "fig, ax = plt.subplots(figsize=(25, 8))\n",
    "\n",
    "plot_tree(dt, ax=ax, filled=True, feature_names=X.columns, class_names=['Negative', 'Positive'], rounded=True);"
   ]
  },
  {
   "cell_type": "code",
   "execution_count": 46,
   "metadata": {},
   "outputs": [
    {
     "name": "stdout",
     "output_type": "stream",
     "text": [
      "[[ 681   26]\n",
      " [  62 2105]]\n"
     ]
    }
   ],
   "source": [
    "from sklearn.metrics import confusion_matrix\n",
    "\n",
    "#y_pred =  logreg.predict(X_test)\n",
    "confusion_matrix = confusion_matrix(y_test, y_teste_predictions)\n",
    "print(confusion_matrix)"
   ]
  },
  {
   "cell_type": "code",
   "execution_count": 48,
   "metadata": {},
   "outputs": [
    {
     "name": "stdout",
     "output_type": "stream",
     "text": [
      "Sensitivity: 97.14\n",
      "Specificity: 96.32\n",
      "Precision: 98.78\n"
     ]
    }
   ],
   "source": [
    "TP = 2105\n",
    "TN = 681\n",
    "FP = 26\n",
    "FN = 62\n",
    "\n",
    "Sensitivity = (TP/(FN+TP)) * 100\n",
    "Specificity = (TN/(FP+TN)) * 100\n",
    "Precision   = (TP/(TP+FP)) * 100\n",
    "\n",
    "print('Sensitivity: {:.2f}'.format(Sensitivity))\n",
    "print('Specificity: {:.2f}'.format(Specificity))\n",
    "print('Precision: {:.2f}'.format(Precision))"
   ]
  },
  {
   "cell_type": "code",
   "execution_count": null,
   "metadata": {},
   "outputs": [],
   "source": []
  }
 ],
 "metadata": {
  "kernelspec": {
   "display_name": "Python 3",
   "language": "python",
   "name": "python3"
  },
  "language_info": {
   "codemirror_mode": {
    "name": "ipython",
    "version": 3
   },
   "file_extension": ".py",
   "mimetype": "text/x-python",
   "name": "python",
   "nbconvert_exporter": "python",
   "pygments_lexer": "ipython3",
   "version": "3.7.6"
  }
 },
 "nbformat": 4,
 "nbformat_minor": 4
}
