{
 "cells": [
  {
   "cell_type": "markdown",
   "metadata": {},
   "source": [
    "# Técnicas de Machine Learning para Classificação Supervisionada de Contas Bots do Twitter.\n",
    "\n",
    "## FIA LABDATA - Turma 13\n",
    "\n",
    "### Descrição dos Data Sets utilizados: \n",
    "\n",
    "Contas classificadas como reais e bots,conforme descrita no paper:[The Paradigm-Shift of Social Spambots: Evidence, Theories, and Tools for the Arms Race](http://dl.acm.org/citation.cfm?doid=3041021.3055135)\n",
    "\n",
    "fonte: http://mib.projects.iit.cnr.it/dataset.html\n",
    "\n",
    "***"
   ]
  },
  {
   "cell_type": "code",
   "execution_count": 2,
   "metadata": {},
   "outputs": [],
   "source": [
    "import numpy as np\n",
    "import pandas as pd\n",
    "import seaborn as sns\n",
    "import datetime"
   ]
  },
  {
   "cell_type": "markdown",
   "metadata": {},
   "source": [
    "# Importando os Data Sets"
   ]
  },
  {
   "cell_type": "markdown",
   "metadata": {},
   "source": [
    "`Genuine Data Set` - Genuine verified accounts that are human-operated"
   ]
  },
  {
   "cell_type": "code",
   "execution_count": 3,
   "metadata": {
    "scrolled": true
   },
   "outputs": [],
   "source": [
    "df_genuine = pd.read_csv('data/cresci-2017/genuine_accounts.csv/users.csv')\n",
    "df_genuine = df_genuine.assign(classification='human', dataset='genuine')\n",
    "\n",
    "# elimina timezone da data\n",
    "#df_genuine['created_at'] = pd.to_datetime(df_genuine['created_at']).dt.tz_localize(None)"
   ]
  },
  {
   "cell_type": "markdown",
   "metadata": {},
   "source": [
    "\n",
    "`social spambots #1` - Retweeters of an Italian political candidate"
   ]
  },
  {
   "cell_type": "code",
   "execution_count": 4,
   "metadata": {},
   "outputs": [
    {
     "data": {
      "text/plain": [
       "(3474, 44)"
      ]
     },
     "execution_count": 4,
     "metadata": {},
     "output_type": "execute_result"
    }
   ],
   "source": [
    "df_genuine.shape"
   ]
  },
  {
   "cell_type": "code",
   "execution_count": 5,
   "metadata": {
    "scrolled": true
   },
   "outputs": [],
   "source": [
    "df_social_bot_1 = pd.read_csv('data/cresci-2017/social_spambots_1.csv/users.csv')\n",
    "df_social_bot_1 = df_social_bot_1.assign(classification='bot', dataset='social_spambots_1')"
   ]
  },
  {
   "cell_type": "markdown",
   "metadata": {},
   "source": [
    "`social spambots #2` - Spammers of paid apps for mobile devices"
   ]
  },
  {
   "cell_type": "code",
   "execution_count": 6,
   "metadata": {},
   "outputs": [],
   "source": [
    "df_social_bot_2 = pd.read_csv('data/cresci-2017/social_spambots_2.csv/users.csv')\n",
    "df_social_bot_2 = df_social_bot_2.assign(classification='bot', dataset='social_spambots_2')"
   ]
  },
  {
   "cell_type": "markdown",
   "metadata": {},
   "source": [
    "`social spambots #3` - Spammers of products on sale at Amazon.com"
   ]
  },
  {
   "cell_type": "code",
   "execution_count": 7,
   "metadata": {},
   "outputs": [],
   "source": [
    "df_social_bot_3 = pd.read_csv('data/cresci-2017/social_spambots_3.csv/users.csv')\n",
    "df_social_bot_3 = df_social_bot_3.assign(classification='bot', dataset='social_spambots_3')"
   ]
  },
  {
   "cell_type": "markdown",
   "metadata": {},
   "source": [
    "`traditional spambots #1` - Spammers"
   ]
  },
  {
   "cell_type": "code",
   "execution_count": 8,
   "metadata": {},
   "outputs": [],
   "source": [
    "df_traditional_spambots_1 = pd.read_csv('data/cresci-2017/traditional_spambots_1.csv/users.csv')\n",
    "df_traditional_spambots_1 = df_traditional_spambots_1.assign(classification='bot', dataset='traditional_spambots_1')"
   ]
  },
  {
   "cell_type": "markdown",
   "metadata": {},
   "source": [
    "`traditional spambots #2` - Spammers of scam URLs"
   ]
  },
  {
   "cell_type": "code",
   "execution_count": 9,
   "metadata": {},
   "outputs": [],
   "source": [
    "df_traditional_spambots_2 = pd.read_csv('data/cresci-2017/traditional_spambots_2.csv/users.csv')\n",
    "df_traditional_spambots_2 = df_traditional_spambots_2.assign(classification='bot', dataset='traditional_spambots_2')"
   ]
  },
  {
   "cell_type": "markdown",
   "metadata": {},
   "source": [
    "`traditional spambots #3` - automated accounts spamming job offers"
   ]
  },
  {
   "cell_type": "code",
   "execution_count": 10,
   "metadata": {},
   "outputs": [],
   "source": [
    "df_traditional_spambots_3 = pd.read_csv('data/cresci-2017/traditional_spambots_3.csv/users.csv')\n",
    "df_traditional_spambots_3 = df_traditional_spambots_3.assign(classification='bot', dataset='traditional_spambots_3')"
   ]
  },
  {
   "cell_type": "markdown",
   "metadata": {},
   "source": [
    "`traditional spambots #4`\t- Another group of automated accounts spamming job offers"
   ]
  },
  {
   "cell_type": "code",
   "execution_count": 11,
   "metadata": {},
   "outputs": [],
   "source": [
    "df_traditional_spambots_4 = pd.read_csv('data/cresci-2017/traditional_spambots_4.csv/users.csv')\n",
    "df_traditional_spambots_4 = df_traditional_spambots_4.assign(classification='bot', dataset='traditional_spambots_4')"
   ]
  },
  {
   "cell_type": "markdown",
   "metadata": {},
   "source": [
    "`fake followers` - Simple accounts that inflate the number of followers of another account"
   ]
  },
  {
   "cell_type": "code",
   "execution_count": 12,
   "metadata": {},
   "outputs": [],
   "source": [
    "df_fake_followers = pd.read_csv('data/cresci-2017/fake_followers.csv/users.csv')\n",
    "df_fake_followers = df_fake_followers.assign(classification='bot', dataset='fake_followers')"
   ]
  },
  {
   "cell_type": "markdown",
   "metadata": {},
   "source": [
    "# Concatenando os Data Sets"
   ]
  },
  {
   "cell_type": "code",
   "execution_count": 15,
   "metadata": {},
   "outputs": [
    {
     "data": {
      "text/plain": [
       "(14368, 44)"
      ]
     },
     "execution_count": 15,
     "metadata": {},
     "output_type": "execute_result"
    }
   ],
   "source": [
    "df_twitter_accounts = pd.concat([\n",
    "    df_genuine,\n",
    "    df_social_bot_1,\n",
    "    df_social_bot_2,\n",
    "    df_social_bot_3,\n",
    "    df_traditional_spambots_1,\n",
    "    df_traditional_spambots_2,\n",
    "    df_traditional_spambots_3,\n",
    "    df_traditional_spambots_4,\n",
    "    df_fake_followers    \n",
    "])\n",
    "df_twitter_accounts.shape"
   ]
  },
  {
   "cell_type": "code",
   "execution_count": 16,
   "metadata": {},
   "outputs": [
    {
     "data": {
      "text/plain": [
       "(Index(['id', 'name', 'screen_name', 'statuses_count', 'followers_count',\n",
       "        'friends_count', 'favourites_count', 'listed_count', 'url', 'lang',\n",
       "        'time_zone', 'location', 'default_profile', 'default_profile_image',\n",
       "        'geo_enabled', 'profile_image_url', 'profile_banner_url',\n",
       "        'profile_use_background_image', 'profile_background_image_url_https',\n",
       "        'profile_text_color', 'profile_image_url_https',\n",
       "        'profile_sidebar_border_color', 'profile_background_tile',\n",
       "        'profile_sidebar_fill_color', 'profile_background_image_url',\n",
       "        'profile_background_color', 'profile_link_color', 'utc_offset',\n",
       "        'is_translator', 'follow_request_sent', 'protected', 'verified',\n",
       "        'notifications', 'description', 'contributors_enabled', 'following',\n",
       "        'created_at', 'timestamp', 'crawled_at', 'updated', 'test_set_1',\n",
       "        'test_set_2', 'classification', 'dataset'],\n",
       "       dtype='object'),\n",
       " (14368, 44))"
      ]
     },
     "execution_count": 16,
     "metadata": {},
     "output_type": "execute_result"
    }
   ],
   "source": [
    "df_twitter_accounts.columns, df_twitter_accounts.shape"
   ]
  },
  {
   "cell_type": "markdown",
   "metadata": {},
   "source": [
    "## Correção de Valores das Variáveis"
   ]
  },
  {
   "cell_type": "code",
   "execution_count": 17,
   "metadata": {},
   "outputs": [
    {
     "data": {
      "text/plain": [
       "id                                        0\n",
       "name                                      1\n",
       "screen_name                               0\n",
       "statuses_count                            0\n",
       "followers_count                           0\n",
       "friends_count                             0\n",
       "favourites_count                          0\n",
       "listed_count                              0\n",
       "url                                   10759\n",
       "lang                                   1000\n",
       "time_zone                              9018\n",
       "location                               6684\n",
       "default_profile                        9857\n",
       "default_profile_image                 14290\n",
       "geo_enabled                           10935\n",
       "profile_image_url                         0\n",
       "profile_banner_url                     9482\n",
       "profile_use_background_image           1523\n",
       "profile_background_image_url_https     1000\n",
       "profile_text_color                     1000\n",
       "profile_image_url_https                1000\n",
       "profile_sidebar_border_color           1000\n",
       "profile_background_tile                8867\n",
       "profile_sidebar_fill_color             1000\n",
       "profile_background_image_url              0\n",
       "profile_background_color               1000\n",
       "profile_link_color                     1000\n",
       "utc_offset                             9018\n",
       "is_translator                         14367\n",
       "follow_request_sent                   14368\n",
       "protected                             14290\n",
       "verified                              14357\n",
       "notifications                         14368\n",
       "description                            5744\n",
       "contributors_enabled                  14368\n",
       "following                             14368\n",
       "created_at                                0\n",
       "timestamp                              3351\n",
       "crawled_at                             3351\n",
       "updated                                   0\n",
       "test_set_1                             9903\n",
       "test_set_2                            10430\n",
       "classification                            0\n",
       "dataset                                   0\n",
       "dtype: int64"
      ]
     },
     "execution_count": 17,
     "metadata": {},
     "output_type": "execute_result"
    }
   ],
   "source": [
    "#verifica vaores nulos\n",
    "df_twitter_accounts.isnull().sum()"
   ]
  },
  {
   "cell_type": "code",
   "execution_count": 18,
   "metadata": {},
   "outputs": [
    {
     "data": {
      "text/plain": [
       "0"
      ]
     },
     "execution_count": 18,
     "metadata": {},
     "output_type": "execute_result"
    }
   ],
   "source": [
    "# A variavel verified possui 2 valores possiveis, de acordo com documentação do Twitter (True,False)\n",
    "# Os data sets apresentam os valores 1 e NaN, portanto, Substituir valores NaN por 0.\n",
    "df_twitter_accounts['geo_enabled'] = df_twitter_accounts['geo_enabled'].fillna(0)\n",
    "df_twitter_accounts['geo_enabled'].isnull().sum()"
   ]
  },
  {
   "cell_type": "code",
   "execution_count": 19,
   "metadata": {},
   "outputs": [
    {
     "data": {
      "text/plain": [
       "0"
      ]
     },
     "execution_count": 19,
     "metadata": {},
     "output_type": "execute_result"
    }
   ],
   "source": [
    "# A variavel verified possui 2 valores possiveis, de acordo com documentação do Twitter (True,False)\n",
    "# Os data sets apresentam os valores 1 e NaN, portanto, Substituir valores NaN por 0.\n",
    "df_twitter_accounts['verified'] = df_twitter_accounts['verified'].fillna(0)\n",
    "df_twitter_accounts['verified'].isnull().sum()"
   ]
  },
  {
   "cell_type": "code",
   "execution_count": 20,
   "metadata": {
    "scrolled": true
   },
   "outputs": [
    {
     "data": {
      "text/plain": [
       "0"
      ]
     },
     "execution_count": 20,
     "metadata": {},
     "output_type": "execute_result"
    }
   ],
   "source": [
    "# A variavel default_profile possui 2 valores possiveis, de acordo com documentação do Twitter (True,False)\n",
    "# Os data sets apresentam os valores 1 e NaN, portanto, Substituir valores NaN por 0.\n",
    "df_twitter_accounts['default_profile'] = df_twitter_accounts['default_profile'].fillna(0)\n",
    "df_twitter_accounts['default_profile'].isnull().sum()"
   ]
  },
  {
   "cell_type": "code",
   "execution_count": 21,
   "metadata": {},
   "outputs": [
    {
     "data": {
      "text/plain": [
       "0"
      ]
     },
     "execution_count": 21,
     "metadata": {},
     "output_type": "execute_result"
    }
   ],
   "source": [
    "# A variavel default_profile_image possui 2 valores possiveis, de acordo com documentação do Twitter (True,False)\n",
    "# Os data sets apresentam os valores 1 e NaN, portanto, Substituir valores NaN por 0.\n",
    "df_twitter_accounts['default_profile_image'] = df_twitter_accounts['default_profile_image'].fillna(0)\n",
    "df_twitter_accounts['default_profile_image'].isnull().sum()"
   ]
  },
  {
   "cell_type": "code",
   "execution_count": 22,
   "metadata": {},
   "outputs": [
    {
     "data": {
      "text/plain": [
       "0"
      ]
     },
     "execution_count": 22,
     "metadata": {},
     "output_type": "execute_result"
    }
   ],
   "source": [
    "# A variavel protected possui 2 valores possiveis, de acordo com documentação do Twitter (True,False)\n",
    "# Os data sets apresentam os valores 1 e NaN, portanto, Substituir valores NaN por 0.\n",
    "df_twitter_accounts['protected'] = df_twitter_accounts['protected'].fillna(0)\n",
    "df_twitter_accounts['protected'].isnull().sum()"
   ]
  },
  {
   "cell_type": "code",
   "execution_count": 23,
   "metadata": {},
   "outputs": [
    {
     "data": {
      "text/plain": [
       "0"
      ]
     },
     "execution_count": 23,
     "metadata": {},
     "output_type": "execute_result"
    }
   ],
   "source": [
    "# A variavel protected possui 2 valores possiveis, de acordo com documentação do Twitter (True,False)\n",
    "# Os data sets apresentam os valores 1 e NaN, portanto, Substituir valores NaN por 0.\n",
    "df_twitter_accounts['lang'] = df_twitter_accounts['lang'].fillna('missing')\n",
    "df_twitter_accounts['lang'].isnull().sum()"
   ]
  },
  {
   "cell_type": "code",
   "execution_count": 24,
   "metadata": {},
   "outputs": [],
   "source": [
    "# existe um usuario que esta sem o nome e sera substituido pelo screen name (nome unico no twitter)\n",
    "#df_twitter_accounts.query('name != name')\n",
    "df_twitter_accounts['name'] = np.where(df_twitter_accounts['name'].isnull(), \n",
    "                                       df_twitter_accounts['screen_name'],\n",
    "                                       df_twitter_accounts['name'])"
   ]
  },
  {
   "cell_type": "markdown",
   "metadata": {},
   "source": [
    "# Gerando novas variáveis"
   ]
  },
  {
   "cell_type": "code",
   "execution_count": 27,
   "metadata": {},
   "outputs": [],
   "source": [
    "df_twitter_accounts =(\n",
    "    df_twitter_accounts\n",
    "        # quantidade total de caracteres no screen name (mome unico)\n",
    "        .assign(screen_name_total_len = (df_twitter_accounts['screen_name'].str.len()))\n",
    "        # quantidade de caracteres numericos no screen name (nome unico)\n",
    "        .assign(screen_name_num_len = (df_twitter_accounts['screen_name'].str.count('[0-9]')))\n",
    "        # quantidade total de caracteres no name\n",
    "        .assign(name_total_len = (df_twitter_accounts['name'].str.len()))\n",
    "        # quantidade de caracteres numericos no name\n",
    "        .assign(name_num_len = (df_twitter_accounts['name'].str.count('[0-9]')))\n",
    "        # is_url_null --> se url nula == True se nao == False\n",
    "        .assign(is_url_null = (np.where(df_twitter_accounts['url'].isnull(),True,False)))\n",
    "        # se usuario informou location\n",
    "        .assign(is_location_null = (np.where(df_twitter_accounts['location'].isnull(),True,False)))\n",
    "        # se a variavel profile_banner_url foi informada ou nao pelo usuario\n",
    "        .assign(profile_banner_url_null = (np.where(df_twitter_accounts['profile_banner_url'].isnull(),True,False)))\n",
    "        # se a imagem do perfil foi informada pelo usuario\n",
    "        .assign(profile_image_url_null = (np.where(df_twitter_accounts['profile_image_url_https'].isnull(),True,False)))\n",
    "        # se usuário informou uma descricao para seu perfil\n",
    "        .assign(description_null = (np.where(df_twitter_accounts['description'].isnull(),True,False)))\n",
    ")"
   ]
  },
  {
   "cell_type": "code",
   "execution_count": 28,
   "metadata": {},
   "outputs": [],
   "source": [
    "# CONVERT AS VARIAVEIS CATEGORICAS QUE ESTAVAM COMO FLOAT PARA BOOLEAN\n",
    "boll_vars = ['default_profile','default_profile_image','geo_enabled','protected','verified']\n",
    "df_twitter_accounts[boll_vars] = df_twitter_accounts[boll_vars].astype(bool)"
   ]
  },
  {
   "cell_type": "markdown",
   "metadata": {},
   "source": [
    "# Drop das variaveis de alta cardinalidade"
   ]
  },
  {
   "cell_type": "code",
   "execution_count": 29,
   "metadata": {},
   "outputs": [],
   "source": [
    "alta_card = ['url','location','profile_banner_url','profile_image_url_https','description','created_at']\n",
    "df_twitter_accounts = df_twitter_accounts.drop(alta_card, axis=1)"
   ]
  },
  {
   "cell_type": "markdown",
   "metadata": {},
   "source": [
    "# Dropando colunas marcadas como deprecated pelo Twitter "
   ]
  },
  {
   "cell_type": "code",
   "execution_count": 30,
   "metadata": {},
   "outputs": [],
   "source": [
    "deprecated_features_list = ['utc_offset','time_zone', 'contributors_enabled', 'is_translator', \n",
    "    'profile_background_color', 'profile_background_image_url', \n",
    "    'profile_background_image_url_https', 'profile_background_tile', 'profile_image_url',\n",
    "    'profile_link_color', 'profile_sidebar_border_color','profile_sidebar_fill_color',\n",
    "    'profile_text_color','profile_use_background_image','following',\n",
    "    'follow_request_sent', 'notifications',\n",
    "    #variaveis do data set nao relacionadas ao objeto user do Twitter\n",
    "    'timestamp','crawled_at','updated','test_set_1','test_set_2']\n",
    "\n",
    "# drop colunas deprecated pelo twitter\n",
    "df_twitter_accounts = df_twitter_accounts.drop(deprecated_features_list, axis = 1)"
   ]
  },
  {
   "cell_type": "code",
   "execution_count": 36,
   "metadata": {},
   "outputs": [
    {
     "data": {
      "text/plain": [
       "(14368, 25)"
      ]
     },
     "execution_count": 36,
     "metadata": {},
     "output_type": "execute_result"
    }
   ],
   "source": [
    "df_twitter_accounts.shape"
   ]
  },
  {
   "cell_type": "code",
   "execution_count": 37,
   "metadata": {},
   "outputs": [
    {
     "data": {
      "text/plain": [
       "id                         0\n",
       "name                       0\n",
       "screen_name                0\n",
       "statuses_count             0\n",
       "followers_count            0\n",
       "friends_count              0\n",
       "favourites_count           0\n",
       "listed_count               0\n",
       "lang                       0\n",
       "default_profile            0\n",
       "default_profile_image      0\n",
       "geo_enabled                0\n",
       "protected                  0\n",
       "verified                   0\n",
       "classification             0\n",
       "dataset                    0\n",
       "screen_name_total_len      0\n",
       "screen_name_num_len        0\n",
       "name_total_len             0\n",
       "name_num_len               0\n",
       "is_url_null                0\n",
       "is_location_null           0\n",
       "profile_banner_url_null    0\n",
       "profile_image_url_null     0\n",
       "description_null           0\n",
       "dtype: int64"
      ]
     },
     "execution_count": 37,
     "metadata": {},
     "output_type": "execute_result"
    }
   ],
   "source": [
    "#verifica vaores nulos\n",
    "df_twitter_accounts.isnull().sum()"
   ]
  },
  {
   "cell_type": "code",
   "execution_count": 38,
   "metadata": {
    "scrolled": false
   },
   "outputs": [
    {
     "data": {
      "text/plain": [
       "id                          int64\n",
       "name                       object\n",
       "screen_name                object\n",
       "statuses_count              int64\n",
       "followers_count             int64\n",
       "friends_count               int64\n",
       "favourites_count            int64\n",
       "listed_count                int64\n",
       "lang                       object\n",
       "default_profile              bool\n",
       "default_profile_image        bool\n",
       "geo_enabled                  bool\n",
       "protected                    bool\n",
       "verified                     bool\n",
       "classification             object\n",
       "dataset                    object\n",
       "screen_name_total_len       int64\n",
       "screen_name_num_len         int64\n",
       "name_total_len              int64\n",
       "name_num_len                int64\n",
       "is_url_null                  bool\n",
       "is_location_null             bool\n",
       "profile_banner_url_null      bool\n",
       "profile_image_url_null       bool\n",
       "description_null             bool\n",
       "dtype: object"
      ]
     },
     "execution_count": 38,
     "metadata": {},
     "output_type": "execute_result"
    }
   ],
   "source": [
    "df_twitter_accounts.dtypes"
   ]
  },
  {
   "cell_type": "markdown",
   "metadata": {},
   "source": [
    "# Exportando a base tratada para CSV"
   ]
  },
  {
   "cell_type": "code",
   "execution_count": 112,
   "metadata": {},
   "outputs": [],
   "source": [
    "df_twitter_accounts.to_csv(r'C:\\git_repositories\\tcc\\classified_twitter_accounts.csv', index=False)"
   ]
  },
  {
   "cell_type": "code",
   "execution_count": null,
   "metadata": {},
   "outputs": [],
   "source": []
  }
 ],
 "metadata": {
  "kernelspec": {
   "display_name": "Python 3",
   "language": "python",
   "name": "python3"
  },
  "language_info": {
   "codemirror_mode": {
    "name": "ipython",
    "version": 3
   },
   "file_extension": ".py",
   "mimetype": "text/x-python",
   "name": "python",
   "nbconvert_exporter": "python",
   "pygments_lexer": "ipython3",
   "version": "3.7.6"
  }
 },
 "nbformat": 4,
 "nbformat_minor": 4
}
