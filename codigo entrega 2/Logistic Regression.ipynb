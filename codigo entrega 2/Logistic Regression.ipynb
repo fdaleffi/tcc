{
 "cells": [
  {
   "cell_type": "markdown",
   "metadata": {},
   "source": [
    "# Técnicas de Machine Learning para Classificação Supervisionada de Contas Bots do Twitter.\n",
    "\n",
    "## FIA LABDATA - Turma 13\n",
    "\n",
    "### Fabio Daleffi"
   ]
  },
  {
   "cell_type": "code",
   "execution_count": 1,
   "metadata": {},
   "outputs": [],
   "source": [
    "import numpy as np\n",
    "import pandas as pd\n",
    "import matplotlib.pyplot as plt\n",
    "import seaborn as sns\n",
    "\n",
    "pd.options.display.max_columns = None"
   ]
  },
  {
   "cell_type": "code",
   "execution_count": 2,
   "metadata": {},
   "outputs": [],
   "source": [
    "df_original = pd.read_csv('classified_twitter_accounts.csv')"
   ]
  },
  {
   "cell_type": "code",
   "execution_count": 3,
   "metadata": {},
   "outputs": [
    {
     "data": {
      "text/plain": [
       "Index(['id', 'name', 'screen_name', 'statuses_count', 'followers_count',\n",
       "       'friends_count', 'favourites_count', 'listed_count', 'lang',\n",
       "       'default_profile', 'default_profile_image', 'geo_enabled', 'protected',\n",
       "       'verified', 'classification', 'dataset', 'screen_name_total_len',\n",
       "       'screen_name_num_len', 'name_total_len', 'name_num_len', 'is_url_null',\n",
       "       'is_location_null', 'profile_banner_url_null', 'profile_image_url_null',\n",
       "       'description_null'],\n",
       "      dtype='object')"
      ]
     },
     "execution_count": 3,
     "metadata": {},
     "output_type": "execute_result"
    }
   ],
   "source": [
    "df_original.columns"
   ]
  },
  {
   "cell_type": "code",
   "execution_count": 4,
   "metadata": {},
   "outputs": [
    {
     "data": {
      "text/plain": [
       "(14368, 25)"
      ]
     },
     "execution_count": 4,
     "metadata": {},
     "output_type": "execute_result"
    }
   ],
   "source": [
    "df_original.shape"
   ]
  },
  {
   "cell_type": "code",
   "execution_count": 5,
   "metadata": {},
   "outputs": [],
   "source": [
    "# DROP FEATURES LIST\n",
    "\n",
    "#ALTA CARDINALIDADE\n",
    "alta_card = ['id','name', 'screen_name']\n",
    "\n",
    "# ALTA CORRELACAO (IDENTIFICADA NA ANALISE EXPLORATORIA)\n",
    "correlacao = ['listed_count']\n",
    "\n",
    "construidas = [\n",
    "    'screen_name_total_len',  \n",
    "    'screen_name_num_len',       \n",
    "    'name_total_len',            \n",
    "    'name_num_len',              \n",
    "    'is_url_null',               \n",
    "    'is_location_null',          \n",
    "    'profile_banner_url_null',   \n",
    "    'profile_image_url_null',    \n",
    "    'description_null'\n",
    "] \n",
    "\n",
    "\n",
    "drop_features = alta_card + correlacao + construidas\n",
    "\n",
    "# VARIAVEIS DE CONTROLE DO DATASET\n",
    "drop_features.append('dataset')\n",
    "\n",
    "df_accounts = df_original.drop(drop_features, axis=1)"
   ]
  },
  {
   "cell_type": "code",
   "execution_count": 6,
   "metadata": {},
   "outputs": [],
   "source": [
    "# target\n",
    "df_accounts['target'] = np.where(df_accounts.classification == \"bot\", 1, 0)\n",
    "df_accounts.drop('classification', axis=1, inplace=True)"
   ]
  },
  {
   "cell_type": "code",
   "execution_count": 7,
   "metadata": {},
   "outputs": [
    {
     "data": {
      "text/plain": [
       "statuses_count            int64\n",
       "followers_count           int64\n",
       "friends_count             int64\n",
       "favourites_count          int64\n",
       "lang                     object\n",
       "default_profile            bool\n",
       "default_profile_image      bool\n",
       "geo_enabled                bool\n",
       "protected                  bool\n",
       "verified                   bool\n",
       "target                    int32\n",
       "dtype: object"
      ]
     },
     "execution_count": 7,
     "metadata": {},
     "output_type": "execute_result"
    }
   ],
   "source": [
    "df_accounts.dtypes"
   ]
  },
  {
   "cell_type": "code",
   "execution_count": 8,
   "metadata": {},
   "outputs": [
    {
     "data": {
      "text/plain": [
       "(14368, 11)"
      ]
     },
     "execution_count": 8,
     "metadata": {},
     "output_type": "execute_result"
    }
   ],
   "source": [
    "df_accounts.shape"
   ]
  },
  {
   "cell_type": "code",
   "execution_count": 9,
   "metadata": {},
   "outputs": [
    {
     "data": {
      "text/html": [
       "<div>\n",
       "<style scoped>\n",
       "    .dataframe tbody tr th:only-of-type {\n",
       "        vertical-align: middle;\n",
       "    }\n",
       "\n",
       "    .dataframe tbody tr th {\n",
       "        vertical-align: top;\n",
       "    }\n",
       "\n",
       "    .dataframe thead th {\n",
       "        text-align: right;\n",
       "    }\n",
       "</style>\n",
       "<table border=\"1\" class=\"dataframe\">\n",
       "  <thead>\n",
       "    <tr style=\"text-align: right;\">\n",
       "      <th></th>\n",
       "      <th>statuses_count</th>\n",
       "      <th>followers_count</th>\n",
       "      <th>friends_count</th>\n",
       "      <th>favourites_count</th>\n",
       "      <th>target</th>\n",
       "    </tr>\n",
       "  </thead>\n",
       "  <tbody>\n",
       "    <tr>\n",
       "      <th>count</th>\n",
       "      <td>14368.000000</td>\n",
       "      <td>1.436800e+04</td>\n",
       "      <td>14368.000000</td>\n",
       "      <td>14368.000000</td>\n",
       "      <td>14368.000000</td>\n",
       "    </tr>\n",
       "    <tr>\n",
       "      <th>mean</th>\n",
       "      <td>5063.190910</td>\n",
       "      <td>8.682774e+02</td>\n",
       "      <td>589.318834</td>\n",
       "      <td>1145.288280</td>\n",
       "      <td>0.758213</td>\n",
       "    </tr>\n",
       "    <tr>\n",
       "      <th>std</th>\n",
       "      <td>17493.409898</td>\n",
       "      <td>2.688472e+04</td>\n",
       "      <td>2665.832959</td>\n",
       "      <td>6036.894173</td>\n",
       "      <td>0.428181</td>\n",
       "    </tr>\n",
       "    <tr>\n",
       "      <th>min</th>\n",
       "      <td>0.000000</td>\n",
       "      <td>0.000000e+00</td>\n",
       "      <td>0.000000</td>\n",
       "      <td>0.000000</td>\n",
       "      <td>0.000000</td>\n",
       "    </tr>\n",
       "    <tr>\n",
       "      <th>25%</th>\n",
       "      <td>31.000000</td>\n",
       "      <td>6.000000e+00</td>\n",
       "      <td>42.000000</td>\n",
       "      <td>0.000000</td>\n",
       "      <td>1.000000</td>\n",
       "    </tr>\n",
       "    <tr>\n",
       "      <th>50%</th>\n",
       "      <td>63.000000</td>\n",
       "      <td>2.500000e+01</td>\n",
       "      <td>250.000000</td>\n",
       "      <td>0.000000</td>\n",
       "      <td>1.000000</td>\n",
       "    </tr>\n",
       "    <tr>\n",
       "      <th>75%</th>\n",
       "      <td>1365.250000</td>\n",
       "      <td>3.320000e+02</td>\n",
       "      <td>538.000000</td>\n",
       "      <td>9.000000</td>\n",
       "      <td>1.000000</td>\n",
       "    </tr>\n",
       "    <tr>\n",
       "      <th>max</th>\n",
       "      <td>399555.000000</td>\n",
       "      <td>2.991573e+06</td>\n",
       "      <td>211890.000000</td>\n",
       "      <td>313954.000000</td>\n",
       "      <td>1.000000</td>\n",
       "    </tr>\n",
       "  </tbody>\n",
       "</table>\n",
       "</div>"
      ],
      "text/plain": [
       "       statuses_count  followers_count  friends_count  favourites_count  \\\n",
       "count    14368.000000     1.436800e+04   14368.000000      14368.000000   \n",
       "mean      5063.190910     8.682774e+02     589.318834       1145.288280   \n",
       "std      17493.409898     2.688472e+04    2665.832959       6036.894173   \n",
       "min          0.000000     0.000000e+00       0.000000          0.000000   \n",
       "25%         31.000000     6.000000e+00      42.000000          0.000000   \n",
       "50%         63.000000     2.500000e+01     250.000000          0.000000   \n",
       "75%       1365.250000     3.320000e+02     538.000000          9.000000   \n",
       "max     399555.000000     2.991573e+06  211890.000000     313954.000000   \n",
       "\n",
       "             target  \n",
       "count  14368.000000  \n",
       "mean       0.758213  \n",
       "std        0.428181  \n",
       "min        0.000000  \n",
       "25%        1.000000  \n",
       "50%        1.000000  \n",
       "75%        1.000000  \n",
       "max        1.000000  "
      ]
     },
     "execution_count": 9,
     "metadata": {},
     "output_type": "execute_result"
    }
   ],
   "source": [
    "df_accounts.describe()"
   ]
  },
  {
   "cell_type": "markdown",
   "metadata": {},
   "source": [
    "# CATEGORIZANDO AS VARIÁVEIS"
   ]
  },
  {
   "cell_type": "code",
   "execution_count": 10,
   "metadata": {},
   "outputs": [],
   "source": [
    "df = df_accounts.copy()"
   ]
  },
  {
   "cell_type": "code",
   "execution_count": 11,
   "metadata": {},
   "outputs": [],
   "source": [
    "df['statuses_count'] = pd.cut(df.statuses_count, bins=[-1,31,63,1365,399555], labels=[\n",
    "     '1 - DE 0 ATE 31'\n",
    "    ,'2 - DE 32 ATE 63'\n",
    "    ,'3 - DE 64 ATE 1365'\n",
    "    ,'4 - ACIMA DE 1365'\n",
    "] )"
   ]
  },
  {
   "cell_type": "code",
   "execution_count": 12,
   "metadata": {},
   "outputs": [],
   "source": [
    "df['followers_count'] = pd.cut(df.followers_count, bins=[-1,6,25,332,2991573], labels=[\n",
    "     '1 - DE 0 ATE 6'\n",
    "    ,'2 - DE 7 ATE 25'\n",
    "    ,'3 - DE 26 ATE 332'\n",
    "    ,'4 - ACIMA DE 332'\n",
    "] )"
   ]
  },
  {
   "cell_type": "code",
   "execution_count": 13,
   "metadata": {},
   "outputs": [],
   "source": [
    "df['friends_count'] = pd.cut(df.friends_count, bins=[-1,42,250,538,211890], labels=[\n",
    "     '1 - DE 0 ATE 42'\n",
    "    ,'2 - DE 43 ATE 250'\n",
    "    ,'3 - DE 251 ATE 538'\n",
    "    ,'4 - ACIMA DE 538'\n",
    "])"
   ]
  },
  {
   "cell_type": "code",
   "execution_count": 14,
   "metadata": {},
   "outputs": [],
   "source": [
    "df['favourites_count'] = pd.cut(df.favourites_count, bins=[-1,9,313954], labels=[\n",
    "     '1 - DE 0 ATE 9'\n",
    "    ,'2 - ACIMA DE 9'\n",
    "])"
   ]
  },
  {
   "cell_type": "code",
   "execution_count": 15,
   "metadata": {},
   "outputs": [],
   "source": [
    "df['lang'] = np.where(df.lang == \"en\", 'ENGLISH', 'OTHERS')\n",
    "df['lang'] = df['lang'].astype('category')"
   ]
  },
  {
   "cell_type": "markdown",
   "metadata": {},
   "source": [
    "# Criar Dummies"
   ]
  },
  {
   "cell_type": "code",
   "execution_count": 19,
   "metadata": {},
   "outputs": [],
   "source": [
    "cat_vars = df.drop('target', axis=1).columns\n",
    "\n",
    "for var in cat_vars:\n",
    "\n",
    "    cat_list='var' +'_'+ var\n",
    "    cat_list = pd.get_dummies(df[var], prefix = var, drop_first=True)\n",
    "    df=df.join(cat_list)\n",
    "\n",
    "df.drop(cat_vars, axis = 1, inplace = True)"
   ]
  },
  {
   "cell_type": "markdown",
   "metadata": {},
   "source": [
    "# Regressão Logística"
   ]
  },
  {
   "cell_type": "code",
   "execution_count": 20,
   "metadata": {},
   "outputs": [],
   "source": [
    "X = df.drop('target', axis = 1)\n",
    "y = df.target\n",
    "\n",
    "## BACKWARD FEATURE REMOVAL\n",
    "drop_list = [\n",
    "    'protected_True',\n",
    "    'verified_True',\n",
    "    'statuses_count_2 - DE 32 ATE 63',\n",
    "    'default_profile_image_True'\n",
    "]\n",
    "\n",
    "X.drop(drop_list, axis = 1, inplace = True)"
   ]
  },
  {
   "cell_type": "code",
   "execution_count": 21,
   "metadata": {
    "scrolled": false
   },
   "outputs": [
    {
     "name": "stdout",
     "output_type": "stream",
     "text": [
      "Optimization terminated successfully.\n",
      "         Current function value: 0.089737\n",
      "         Iterations 10\n",
      "                                  Results: Logit\n",
      "==================================================================================\n",
      "Model:                    Logit                  Pseudo R-squared:       0.838    \n",
      "Dependent Variable:       target                 AIC:                    2604.6890\n",
      "Date:                     2020-07-20 23:25       BIC:                    2703.1349\n",
      "No. Observations:         14368                  Log-Likelihood:         -1289.3  \n",
      "Df Model:                 12                     LL-Null:                -7947.4  \n",
      "Df Residuals:             14355                  LLR p-value:            0.0000   \n",
      "Converged:                1.0000                 Scale:                  1.0000   \n",
      "No. Iterations:           10.0000                                                 \n",
      "----------------------------------------------------------------------------------\n",
      "                                   Coef.  Std.Err.    z     P>|z|   [0.025  0.975]\n",
      "----------------------------------------------------------------------------------\n",
      "const                              6.4029   0.2961  21.6260 0.0000  5.8226  6.9831\n",
      "statuses_count_3 - DE 64 ATE 1365 -1.5006   0.1897  -7.9115 0.0000 -1.8723 -1.1288\n",
      "statuses_count_4 - ACIMA DE 1365  -2.1999   0.2142 -10.2704 0.0000 -2.6197 -1.7801\n",
      "followers_count_2 - DE 7 ATE 25   -1.0981   0.3007  -3.6523 0.0003 -1.6874 -0.5088\n",
      "followers_count_3 - DE 26 ATE 332 -2.5883   0.3034  -8.5313 0.0000 -3.1829 -1.9937\n",
      "followers_count_4 - ACIMA DE 332  -2.9371   0.3288  -8.9328 0.0000 -3.5816 -2.2927\n",
      "friends_count_2 - DE 43 ATE 250    0.7126   0.2305   3.0916 0.0020  0.2608  1.1644\n",
      "friends_count_3 - DE 251 ATE 538   1.8325   0.2508   7.3063 0.0000  1.3409  2.3241\n",
      "friends_count_4 - ACIMA DE 538     2.5890   0.2582  10.0255 0.0000  2.0829  3.0952\n",
      "favourites_count_2 - ACIMA DE 9   -5.5950   0.1369 -40.8603 0.0000 -5.8634 -5.3266\n",
      "lang_OTHERS                        1.1769   0.1604   7.3366 0.0000  0.8625  1.4913\n",
      "default_profile_True              -1.0839   0.1433  -7.5655 0.0000 -1.3648 -0.8031\n",
      "geo_enabled_True                  -1.3755   0.1317 -10.4423 0.0000 -1.6336 -1.1173\n",
      "==================================================================================\n",
      "\n"
     ]
    }
   ],
   "source": [
    "import statsmodels.api as sm\n",
    "\n",
    "X = sm.add_constant(X)\n",
    "logit_model=sm.Logit(y, X)\n",
    "result=logit_model.fit()\n",
    "print(result.summary2())"
   ]
  },
  {
   "cell_type": "code",
   "execution_count": 22,
   "metadata": {},
   "outputs": [
    {
     "data": {
      "text/plain": [
       "LogisticRegression(C=1.0, class_weight=None, dual=False, fit_intercept=True,\n",
       "                   intercept_scaling=1, l1_ratio=None, max_iter=100,\n",
       "                   multi_class='auto', n_jobs=None, penalty='l2',\n",
       "                   random_state=None, solver='lbfgs', tol=0.0001, verbose=0,\n",
       "                   warm_start=False)"
      ]
     },
     "execution_count": 22,
     "metadata": {},
     "output_type": "execute_result"
    }
   ],
   "source": [
    "from sklearn.model_selection import train_test_split\n",
    "from sklearn.linear_model import LogisticRegression\n",
    "from sklearn import metrics\n",
    "\n",
    "X_train, X_test, y_train, y_test = train_test_split(X, y, test_size=0.3, random_state=42)\n",
    "logreg = LogisticRegression()\n",
    "logreg.fit(X_train, y_train)"
   ]
  },
  {
   "cell_type": "code",
   "execution_count": 23,
   "metadata": {},
   "outputs": [
    {
     "name": "stdout",
     "output_type": "stream",
     "text": [
      "Accuracy no treino: 0.98\n",
      "Accuracy no teste: 0.97\n"
     ]
    }
   ],
   "source": [
    "print('Accuracy no treino: {:.2f}'.format(logreg.score(X_train, y_train)))\n",
    "print('Accuracy no teste: {:.2f}'.format(logreg.score(X_test, y_test)))"
   ]
  },
  {
   "cell_type": "code",
   "execution_count": 28,
   "metadata": {},
   "outputs": [
    {
     "name": "stdout",
     "output_type": "stream",
     "text": [
      "[[1001   47]\n",
      " [  68 3195]]\n"
     ]
    }
   ],
   "source": [
    "from sklearn.metrics import confusion_matrix\n",
    "\n",
    "y_pred =  logreg.predict(X_test)\n",
    "confusion_matrix = confusion_matrix(y_test, y_pred)\n",
    "print(confusion_matrix)"
   ]
  },
  {
   "cell_type": "code",
   "execution_count": 43,
   "metadata": {
    "scrolled": true
   },
   "outputs": [
    {
     "data": {
      "image/png": "[encoded data removed]",
      "text/plain": [
       "<Figure size 432x288 with 2 Axes>"
      ]
     },
     "metadata": {
      "needs_background": "light"
     },
     "output_type": "display_data"
    }
   ],
   "source": [
    "from sklearn.metrics import plot_confusion_matrix\n",
    "\n",
    "labels = ['Human', 'Bot']\n",
    "plot_confusion_matrix(logreg, X_test, y_test, normalize=\"true\", cmap = plt.cm.GnBu, display_labels= labels);\n",
    "#plot_confusion_matrix(logreg, X_test, y_test, normalize=\"true\", cmap = plt.cm.GnBu);"
   ]
  },
  {
   "cell_type": "code",
   "execution_count": 44,
   "metadata": {},
   "outputs": [
    {
     "name": "stdout",
     "output_type": "stream",
     "text": [
      "Sensitivity: 97.92\n",
      "Specificity: 95.52\n",
      "Precision: 98.55\n"
     ]
    }
   ],
   "source": [
    "TP = 3195\n",
    "TN = 1001\n",
    "FP = 47\n",
    "FN = 68\n",
    "\n",
    "Sensitivity = (TP/(FN+TP)) * 100\n",
    "Specificity = (TN/(FP+TN)) * 100\n",
    "Precision   = (TP/(TP+FP)) * 100\n",
    "\n",
    "print('Sensitivity: {:.2f}'.format(Sensitivity))\n",
    "print('Specificity: {:.2f}'.format(Specificity))\n",
    "print('Precision: {:.2f}'.format(Precision))"
   ]
  },
  {
   "cell_type": "code",
   "execution_count": null,
   "metadata": {},
   "outputs": [],
   "source": []
  },
  {
   "cell_type": "code",
   "execution_count": null,
   "metadata": {},
   "outputs": [],
   "source": [
    "# Define function to output plot of the model coefficients\n",
    "\n",
    "def coefplot(results):\n",
    "    '''\n",
    "    Takes in results of OLS model and returns a plot of \n",
    "    the coefficients with 95% confidence intervals.\n",
    "    \n",
    "    Removes intercept, so if uncentered will return error.\n",
    "    '''\n",
    "    # Create dataframe of results summary \n",
    "    coef_df = pd.DataFrame(results.summary().tables[1].data)\n",
    "    \n",
    "    # Add column names\n",
    "    coef_df.columns = coef_df.iloc[0]\n",
    "\n",
    "    # Drop the extra row with column labels\n",
    "    coef_df=coef_df.drop(0)\n",
    "\n",
    "    # Set index to variable names \n",
    "    coef_df = coef_df.set_index(coef_df.columns[0])\n",
    "\n",
    "    # Change datatype from object to float\n",
    "    coef_df = coef_df.astype(float)\n",
    "\n",
    "    # Get errors; (coef - lower bound of conf interval)\n",
    "    errors = coef_df['coef'] - coef_df['[0.025']\n",
    "    \n",
    "    # Append errors column to dataframe\n",
    "    coef_df['errors'] = errors\n",
    "\n",
    "    # Drop the constant for plotting\n",
    "    coef_df = coef_df.drop(['const'])\n",
    "\n",
    "    # Sort values by coef ascending\n",
    "    coef_df = coef_df.sort_values(by=['coef'])\n",
    "\n",
    "    ### Plot Coefficients ###\n",
    "\n",
    "    # x-labels\n",
    "    variables = list(coef_df.index.values)\n",
    "    \n",
    "    # Add variables column to dataframe\n",
    "    coef_df['variables'] = variables\n",
    "    \n",
    "    # Set sns plot style back to 'poster'\n",
    "    # This will make bars wide on plot\n",
    "    sns.set_context(\"poster\")\n",
    "\n",
    "    # Define figure, axes, and plot\n",
    "    fig, ax = plt.subplots(figsize=(15, 10))\n",
    "    \n",
    "    # Error bars for 95% confidence interval\n",
    "    # Can increase capsize to add whiskers\n",
    "    coef_df.plot(x='variables', y='coef', kind='bar',\n",
    "                 ax=ax, color='none', fontsize=22, \n",
    "                 ecolor='steelblue',capsize=0,\n",
    "                 yerr='errors', legend=False)\n",
    "    \n",
    "    # Set title & labels\n",
    "    plt.title('Coefficients of Features w/ 95% Confidence Intervals',fontsize=30)\n",
    "    ax.set_ylabel('Coefficients',fontsize=22)\n",
    "    ax.set_xlabel('',fontsize=22)\n",
    "    \n",
    "    # Coefficients\n",
    "    ax.scatter(x=np.arange(coef_df.shape[0]), \n",
    "               marker='o', s=80, \n",
    "               y=coef_df['coef'], color='steelblue')\n",
    "    \n",
    "    # Line to define zero on the y-axis\n",
    "    ax.axhline(y=0, linestyle='--', color='red', linewidth=1)\n",
    "    \n",
    "    return plt.show()"
   ]
  },
  {
   "cell_type": "code",
   "execution_count": null,
   "metadata": {},
   "outputs": [],
   "source": [
    "coefplot(result)"
   ]
  },
  {
   "cell_type": "code",
   "execution_count": null,
   "metadata": {},
   "outputs": [],
   "source": []
  }
 ],
 "metadata": {
  "kernelspec": {
   "display_name": "Python 3",
   "language": "python",
   "name": "python3"
  },
  "language_info": {
   "codemirror_mode": {
    "name": "ipython",
    "version": 3
   },
   "file_extension": ".py",
   "mimetype": "text/x-python",
   "name": "python",
   "nbconvert_exporter": "python",
   "pygments_lexer": "ipython3",
   "version": "3.7.6"
  }
 },
 "nbformat": 4,
 "nbformat_minor": 4
}
