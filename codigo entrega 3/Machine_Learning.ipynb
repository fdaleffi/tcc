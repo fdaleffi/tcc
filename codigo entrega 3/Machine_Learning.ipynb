{
 "cells": [
  {
   "cell_type": "markdown",
   "metadata": {},
   "source": [
    "# Técnicas de Machine Learning para Classificação Supervisionada de Contas Bots do Twitter.\n",
    "\n",
    "## FIA LABDATA - Turma 13\n",
    "\n",
    "### Fabio Daleffi"
   ]
  },
  {
   "cell_type": "code",
   "execution_count": 1,
   "metadata": {},
   "outputs": [],
   "source": [
    "import numpy as np\n",
    "import pandas as pd\n",
    "import matplotlib.pyplot as plt\n",
    "import seaborn as sns\n",
    "\n",
    "pd.options.display.max_columns = None"
   ]
  },
  {
   "cell_type": "code",
   "execution_count": 2,
   "metadata": {},
   "outputs": [],
   "source": [
    "df_original = pd.read_csv('classified_twitter_accounts.csv')"
   ]
  },
  {
   "cell_type": "code",
   "execution_count": 3,
   "metadata": {},
   "outputs": [
    {
     "data": {
      "text/plain": [
       "Index(['id', 'name', 'screen_name', 'statuses_count', 'followers_count',\n",
       "       'friends_count', 'favourites_count', 'listed_count', 'lang',\n",
       "       'default_profile', 'default_profile_image', 'geo_enabled', 'protected',\n",
       "       'verified', 'classification', 'dataset', 'screen_name_total_len',\n",
       "       'screen_name_num_len', 'name_total_len', 'name_num_len', 'is_url_null',\n",
       "       'is_location_null', 'profile_banner_url_null', 'profile_image_url_null',\n",
       "       'description_null'],\n",
       "      dtype='object')"
      ]
     },
     "execution_count": 3,
     "metadata": {},
     "output_type": "execute_result"
    }
   ],
   "source": [
    "df_original.columns"
   ]
  },
  {
   "cell_type": "code",
   "execution_count": 4,
   "metadata": {},
   "outputs": [
    {
     "data": {
      "text/plain": [
       "(14368, 25)"
      ]
     },
     "execution_count": 4,
     "metadata": {},
     "output_type": "execute_result"
    }
   ],
   "source": [
    "df_original.shape"
   ]
  },
  {
   "cell_type": "code",
   "execution_count": 5,
   "metadata": {},
   "outputs": [],
   "source": [
    "# DROP FEATURES LIST\n",
    "\n",
    "#ALTA CARDINALIDADE\n",
    "alta_card = ['id','name', 'screen_name']\n",
    "\n",
    "# ALTA CORRELACAO (IDENTIFICADA NA ANALISE EXPLORATORIA)\n",
    "correlacao = ['listed_count']\n",
    "\n",
    "construidas = [\n",
    "    'screen_name_total_len',  \n",
    "    'screen_name_num_len',       \n",
    "    'name_total_len',            \n",
    "    'name_num_len',              \n",
    "    'is_url_null',               \n",
    "    'is_location_null',          \n",
    "    'profile_banner_url_null',   \n",
    "    'profile_image_url_null',    \n",
    "    'description_null'\n",
    "] \n",
    "\n",
    "\n",
    "drop_features = alta_card + correlacao + construidas\n",
    "\n",
    "# VARIAVEIS DE CONTROLE DO DATASET\n",
    "drop_features.append('dataset')\n",
    "\n",
    "df_accounts = df_original.drop(drop_features, axis=1)"
   ]
  },
  {
   "cell_type": "code",
   "execution_count": 6,
   "metadata": {},
   "outputs": [],
   "source": [
    "# target\n",
    "df_accounts['target'] = np.where(df_accounts.classification == \"bot\", 1, 0)\n",
    "df_accounts.drop('classification', axis=1, inplace=True)"
   ]
  },
  {
   "cell_type": "code",
   "execution_count": 7,
   "metadata": {},
   "outputs": [
    {
     "data": {
      "text/plain": [
       "statuses_count            int64\n",
       "followers_count           int64\n",
       "friends_count             int64\n",
       "favourites_count          int64\n",
       "lang                     object\n",
       "default_profile            bool\n",
       "default_profile_image      bool\n",
       "geo_enabled                bool\n",
       "protected                  bool\n",
       "verified                   bool\n",
       "target                    int32\n",
       "dtype: object"
      ]
     },
     "execution_count": 7,
     "metadata": {},
     "output_type": "execute_result"
    }
   ],
   "source": [
    "df_accounts.dtypes"
   ]
  },
  {
   "cell_type": "code",
   "execution_count": 8,
   "metadata": {},
   "outputs": [
    {
     "data": {
      "text/plain": [
       "(14368, 11)"
      ]
     },
     "execution_count": 8,
     "metadata": {},
     "output_type": "execute_result"
    }
   ],
   "source": [
    "df_accounts.shape"
   ]
  },
  {
   "cell_type": "code",
   "execution_count": 9,
   "metadata": {},
   "outputs": [
    {
     "data": {
      "text/html": [
       "<div>\n",
       "<style scoped>\n",
       "    .dataframe tbody tr th:only-of-type {\n",
       "        vertical-align: middle;\n",
       "    }\n",
       "\n",
       "    .dataframe tbody tr th {\n",
       "        vertical-align: top;\n",
       "    }\n",
       "\n",
       "    .dataframe thead th {\n",
       "        text-align: right;\n",
       "    }\n",
       "</style>\n",
       "<table border=\"1\" class=\"dataframe\">\n",
       "  <thead>\n",
       "    <tr style=\"text-align: right;\">\n",
       "      <th></th>\n",
       "      <th>statuses_count</th>\n",
       "      <th>followers_count</th>\n",
       "      <th>friends_count</th>\n",
       "      <th>favourites_count</th>\n",
       "      <th>target</th>\n",
       "    </tr>\n",
       "  </thead>\n",
       "  <tbody>\n",
       "    <tr>\n",
       "      <th>count</th>\n",
       "      <td>14368.000000</td>\n",
       "      <td>1.436800e+04</td>\n",
       "      <td>14368.000000</td>\n",
       "      <td>14368.000000</td>\n",
       "      <td>14368.000000</td>\n",
       "    </tr>\n",
       "    <tr>\n",
       "      <th>mean</th>\n",
       "      <td>5063.190910</td>\n",
       "      <td>8.682774e+02</td>\n",
       "      <td>589.318834</td>\n",
       "      <td>1145.288280</td>\n",
       "      <td>0.758213</td>\n",
       "    </tr>\n",
       "    <tr>\n",
       "      <th>std</th>\n",
       "      <td>17493.409898</td>\n",
       "      <td>2.688472e+04</td>\n",
       "      <td>2665.832959</td>\n",
       "      <td>6036.894173</td>\n",
       "      <td>0.428181</td>\n",
       "    </tr>\n",
       "    <tr>\n",
       "      <th>min</th>\n",
       "      <td>0.000000</td>\n",
       "      <td>0.000000e+00</td>\n",
       "      <td>0.000000</td>\n",
       "      <td>0.000000</td>\n",
       "      <td>0.000000</td>\n",
       "    </tr>\n",
       "    <tr>\n",
       "      <th>25%</th>\n",
       "      <td>31.000000</td>\n",
       "      <td>6.000000e+00</td>\n",
       "      <td>42.000000</td>\n",
       "      <td>0.000000</td>\n",
       "      <td>1.000000</td>\n",
       "    </tr>\n",
       "    <tr>\n",
       "      <th>50%</th>\n",
       "      <td>63.000000</td>\n",
       "      <td>2.500000e+01</td>\n",
       "      <td>250.000000</td>\n",
       "      <td>0.000000</td>\n",
       "      <td>1.000000</td>\n",
       "    </tr>\n",
       "    <tr>\n",
       "      <th>75%</th>\n",
       "      <td>1365.250000</td>\n",
       "      <td>3.320000e+02</td>\n",
       "      <td>538.000000</td>\n",
       "      <td>9.000000</td>\n",
       "      <td>1.000000</td>\n",
       "    </tr>\n",
       "    <tr>\n",
       "      <th>max</th>\n",
       "      <td>399555.000000</td>\n",
       "      <td>2.991573e+06</td>\n",
       "      <td>211890.000000</td>\n",
       "      <td>313954.000000</td>\n",
       "      <td>1.000000</td>\n",
       "    </tr>\n",
       "  </tbody>\n",
       "</table>\n",
       "</div>"
      ],
      "text/plain": [
       "       statuses_count  followers_count  friends_count  favourites_count  \\\n",
       "count    14368.000000     1.436800e+04   14368.000000      14368.000000   \n",
       "mean      5063.190910     8.682774e+02     589.318834       1145.288280   \n",
       "std      17493.409898     2.688472e+04    2665.832959       6036.894173   \n",
       "min          0.000000     0.000000e+00       0.000000          0.000000   \n",
       "25%         31.000000     6.000000e+00      42.000000          0.000000   \n",
       "50%         63.000000     2.500000e+01     250.000000          0.000000   \n",
       "75%       1365.250000     3.320000e+02     538.000000          9.000000   \n",
       "max     399555.000000     2.991573e+06  211890.000000     313954.000000   \n",
       "\n",
       "             target  \n",
       "count  14368.000000  \n",
       "mean       0.758213  \n",
       "std        0.428181  \n",
       "min        0.000000  \n",
       "25%        1.000000  \n",
       "50%        1.000000  \n",
       "75%        1.000000  \n",
       "max        1.000000  "
      ]
     },
     "execution_count": 9,
     "metadata": {},
     "output_type": "execute_result"
    }
   ],
   "source": [
    "df_accounts.describe()"
   ]
  },
  {
   "cell_type": "markdown",
   "metadata": {},
   "source": [
    "# CATEGORIZANDO AS VARIÁVEIS"
   ]
  },
  {
   "cell_type": "code",
   "execution_count": 10,
   "metadata": {},
   "outputs": [],
   "source": [
    "df = df_accounts.copy()"
   ]
  },
  {
   "cell_type": "code",
   "execution_count": 11,
   "metadata": {},
   "outputs": [],
   "source": [
    "df['statuses_count'] = pd.cut(df.statuses_count, bins=[-1,31,63,1365,399555], labels=[\n",
    "     '1 - DE 0 ATE 31'\n",
    "    ,'2 - DE 32 ATE 63'\n",
    "    ,'3 - DE 64 ATE 1365'\n",
    "    ,'4 - ACIMA DE 1365'\n",
    "] )"
   ]
  },
  {
   "cell_type": "code",
   "execution_count": 12,
   "metadata": {},
   "outputs": [],
   "source": [
    "df['followers_count'] = pd.cut(df.followers_count, bins=[-1,6,25,332,2991573], labels=[\n",
    "     '1 - DE 0 ATE 6'\n",
    "    ,'2 - DE 7 ATE 25'\n",
    "    ,'3 - DE 26 ATE 332'\n",
    "    ,'4 - ACIMA DE 332'\n",
    "] )"
   ]
  },
  {
   "cell_type": "code",
   "execution_count": 13,
   "metadata": {},
   "outputs": [],
   "source": [
    "df['friends_count'] = pd.cut(df.friends_count, bins=[-1,42,250,538,211890], labels=[\n",
    "     '1 - DE 0 ATE 42'\n",
    "    ,'2 - DE 43 ATE 250'\n",
    "    ,'3 - DE 251 ATE 538'\n",
    "    ,'4 - ACIMA DE 538'\n",
    "])"
   ]
  },
  {
   "cell_type": "code",
   "execution_count": 14,
   "metadata": {},
   "outputs": [],
   "source": [
    "df['favourites_count'] = pd.cut(df.favourites_count, bins=[-1,9,313954], labels=[\n",
    "     '1 - DE 0 ATE 9'\n",
    "    ,'2 - ACIMA DE 9'\n",
    "])"
   ]
  },
  {
   "cell_type": "code",
   "execution_count": 15,
   "metadata": {},
   "outputs": [],
   "source": [
    "df['lang'] = np.where(df.lang == \"en\", 'ENGLISH', 'OTHERS')\n",
    "df['lang'] = df['lang'].astype('category')"
   ]
  },
  {
   "cell_type": "markdown",
   "metadata": {},
   "source": [
    "# Criar Dummies"
   ]
  },
  {
   "cell_type": "code",
   "execution_count": 16,
   "metadata": {},
   "outputs": [],
   "source": [
    "cat_vars = df.drop('target', axis=1).columns\n",
    "\n",
    "for var in cat_vars:\n",
    "\n",
    "    cat_list='var' +'_'+ var\n",
    "    cat_list = pd.get_dummies(df[var], prefix = var, drop_first=True)\n",
    "    df=df.join(cat_list)\n",
    "\n",
    "df.drop(cat_vars, axis = 1, inplace = True)"
   ]
  },
  {
   "cell_type": "markdown",
   "metadata": {},
   "source": [
    "# Machine Learning - Comparando Diferentes Modelos"
   ]
  },
  {
   "cell_type": "code",
   "execution_count": 17,
   "metadata": {},
   "outputs": [],
   "source": [
    "from sklearn.model_selection import train_test_split\n",
    "\n",
    "X = df.drop('target', axis = 1)\n",
    "y = df.target\n",
    "\n",
    "X_train, X_test, y_train, y_test = train_test_split(X, y, test_size=0.3, random_state=42)"
   ]
  },
  {
   "cell_type": "code",
   "execution_count": 18,
   "metadata": {},
   "outputs": [],
   "source": [
    "from sklearn.ensemble import RandomForestClassifier\n",
    "from sklearn.ensemble import GradientBoostingClassifier\n",
    "from xgboost import XGBClassifier\n",
    "from catboost import CatBoostClassifier\n",
    "\n",
    "from sklearn.model_selection import cross_validate\n",
    "from tqdm import tqdm"
   ]
  },
  {
   "cell_type": "code",
   "execution_count": 19,
   "metadata": {},
   "outputs": [],
   "source": [
    "models = [('Random Forest', RandomForestClassifier(n_estimators=500, min_samples_split=5)),\n",
    "          ('Gradient Boost', GradientBoostingClassifier(n_estimators=1000, min_samples_split=5)),\n",
    "          ('XGBoosting', XGBClassifier(n_estimators=1000, min_samples_split=5)),\n",
    "          ('Catboost', CatBoostClassifier(n_estimators=1000, verbose=False))\n",
    "         ]"
   ]
  },
  {
   "cell_type": "code",
   "execution_count": 20,
   "metadata": {},
   "outputs": [],
   "source": [
    "def compare_models(models_list=models, sort_by='accuracy', folds=5):\n",
    "\n",
    "    comparison_table = pd.DataFrame(columns=['model', 'mean_accuracy', 'std_accuracy', 'mean_roc_auc', 'std_roc_auc'])\n",
    "\n",
    "    for model in tqdm(models):\n",
    "        cv_results = cross_validate(model[1], X_train, y_train, cv=folds, scoring=['roc_auc', 'accuracy'])\n",
    "\n",
    "        model_results = pd.DataFrame({\n",
    "            'model': [model[0]],\n",
    "            'mean_accuracy': [cv_results['test_accuracy'].mean()],\n",
    "            'std_accuracy': [cv_results['test_accuracy'].std()],\n",
    "            'mean_roc_auc': [cv_results['test_roc_auc'].mean()],\n",
    "            'std_roc_auc': [cv_results['test_roc_auc'].std()]\n",
    "        })\n",
    "\n",
    "        comparison_table = pd.concat([comparison_table, model_results], axis=0)\n",
    "        \n",
    "    return comparison_table.sort_values(by=['mean_' + sort_by], ascending=False).reset_index(drop=True)"
   ]
  },
  {
   "cell_type": "code",
   "execution_count": 144,
   "metadata": {},
   "outputs": [
    {
     "name": "stderr",
     "output_type": "stream",
     "text": [
      "100%|████████████████████████████████████████████████████████████████████████████████████████████████████████████████████████████████████| 4/4 [01:38<00:00, 24.51s/it]\n"
     ]
    },
    {
     "data": {
      "text/html": [
       "<div>\n",
       "<style scoped>\n",
       "    .dataframe tbody tr th:only-of-type {\n",
       "        vertical-align: middle;\n",
       "    }\n",
       "\n",
       "    .dataframe tbody tr th {\n",
       "        vertical-align: top;\n",
       "    }\n",
       "\n",
       "    .dataframe thead th {\n",
       "        text-align: right;\n",
       "    }\n",
       "</style>\n",
       "<table border=\"1\" class=\"dataframe\">\n",
       "  <thead>\n",
       "    <tr style=\"text-align: right;\">\n",
       "      <th></th>\n",
       "      <th>model</th>\n",
       "      <th>mean_accuracy</th>\n",
       "      <th>std_accuracy</th>\n",
       "      <th>mean_roc_auc</th>\n",
       "      <th>std_roc_auc</th>\n",
       "    </tr>\n",
       "  </thead>\n",
       "  <tbody>\n",
       "    <tr>\n",
       "      <th>0</th>\n",
       "      <td>XGBoosting</td>\n",
       "      <td>0.978920</td>\n",
       "      <td>0.003094</td>\n",
       "      <td>0.991244</td>\n",
       "      <td>0.001762</td>\n",
       "    </tr>\n",
       "    <tr>\n",
       "      <th>1</th>\n",
       "      <td>Random Forest</td>\n",
       "      <td>0.978820</td>\n",
       "      <td>0.003513</td>\n",
       "      <td>0.991829</td>\n",
       "      <td>0.001116</td>\n",
       "    </tr>\n",
       "    <tr>\n",
       "      <th>2</th>\n",
       "      <td>Gradient Boost</td>\n",
       "      <td>0.978721</td>\n",
       "      <td>0.002363</td>\n",
       "      <td>0.992537</td>\n",
       "      <td>0.000760</td>\n",
       "    </tr>\n",
       "    <tr>\n",
       "      <th>3</th>\n",
       "      <td>Catboost</td>\n",
       "      <td>0.978721</td>\n",
       "      <td>0.002993</td>\n",
       "      <td>0.993725</td>\n",
       "      <td>0.001276</td>\n",
       "    </tr>\n",
       "  </tbody>\n",
       "</table>\n",
       "</div>"
      ],
      "text/plain": [
       "            model  mean_accuracy  std_accuracy  mean_roc_auc  std_roc_auc\n",
       "0      XGBoosting       0.978920      0.003094      0.991244     0.001762\n",
       "1   Random Forest       0.978820      0.003513      0.991829     0.001116\n",
       "2  Gradient Boost       0.978721      0.002363      0.992537     0.000760\n",
       "3        Catboost       0.978721      0.002993      0.993725     0.001276"
      ]
     },
     "execution_count": 144,
     "metadata": {},
     "output_type": "execute_result"
    }
   ],
   "source": [
    "compare_models()"
   ]
  },
  {
   "cell_type": "markdown",
   "metadata": {},
   "source": [
    "#### Extreme Gradient Boosting foi o modelo com melhor acurácia."
   ]
  },
  {
   "cell_type": "code",
   "execution_count": 21,
   "metadata": {},
   "outputs": [
    {
     "data": {
      "text/plain": [
       "0.9768035258640687"
      ]
     },
     "execution_count": 21,
     "metadata": {},
     "output_type": "execute_result"
    }
   ],
   "source": [
    "xgb = XGBClassifier(n_estimators=1000, min_samples_split=5)\n",
    "\n",
    "xgb.fit(X_train, y_train)\n",
    "\n",
    "from sklearn.metrics import accuracy_score\n",
    "\n",
    "y_predictions = xgb.predict(X_test)\n",
    "accuracy_score(y_test, y_predictions)"
   ]
  },
  {
   "cell_type": "markdown",
   "metadata": {},
   "source": [
    "## Tunning de hiperparâmetros do melhor Modelo - Grid Search"
   ]
  },
  {
   "cell_type": "code",
   "execution_count": 22,
   "metadata": {},
   "outputs": [],
   "source": [
    "xgb = XGBClassifier(n_estimators=1000, min_samples_split=5)\n",
    "\n",
    "model_pipe = [('XGB', xgb)]"
   ]
  },
  {
   "cell_type": "code",
   "execution_count": 23,
   "metadata": {},
   "outputs": [],
   "source": [
    "from sklearn.model_selection import GridSearchCV\n",
    "\n",
    "parameters_distributions = {'XGB__learning_rate': [0.001, 0.01, 0.1], \n",
    "                            'XGB__subsample': [0.5, 1.0],\n",
    "                            'XGB__n_estimators': [500, 1000, 5000],\n",
    "                            'XGB__min_samples_split': [2, 5, 7],\n",
    "                            'XGB__max_depth': [3, 5, 7]}\n",
    "\n",
    "grid_search = GridSearchCV((model_pipe[0])[1], parameters_distributions, scoring='accuracy', \n",
    "                           cv=5, n_jobs=-1)"
   ]
  },
  {
   "cell_type": "code",
   "execution_count": 173,
   "metadata": {},
   "outputs": [
    {
     "data": {
      "text/plain": [
       "GridSearchCV(cv=5, error_score=nan,\n",
       "             estimator=XGBClassifier(base_score=None, booster=None,\n",
       "                                     colsample_bylevel=None,\n",
       "                                     colsample_bynode=None,\n",
       "                                     colsample_bytree=None, gamma=None,\n",
       "                                     gpu_id=None, importance_type='gain',\n",
       "                                     interaction_constraints=None,\n",
       "                                     learning_rate=None, max_delta_step=None,\n",
       "                                     max_depth=None, min_child_weight=None,\n",
       "                                     min_samples_split=5, missing=nan,\n",
       "                                     monotone_cons...\n",
       "                                     subsample=None, tree_method=None,\n",
       "                                     validate_parameters=False,\n",
       "                                     verbosity=None),\n",
       "             iid='deprecated', n_jobs=-1,\n",
       "             param_grid={'XGB__learning_rate': [0.001, 0.01, 0.1],\n",
       "                         'XGB__max_depth': [3, 5, 7],\n",
       "                         'XGB__min_samples_split': [2, 5, 7],\n",
       "                         'XGB__n_estimators': [500, 1000, 5000],\n",
       "                         'XGB__subsample': [0.5, 1.0]},\n",
       "             pre_dispatch='2*n_jobs', refit=True, return_train_score=False,\n",
       "             scoring='accuracy', verbose=0)"
      ]
     },
     "execution_count": 173,
     "metadata": {},
     "output_type": "execute_result"
    }
   ],
   "source": [
    "grid_search.fit(X_train, y_train)"
   ]
  },
  {
   "cell_type": "markdown",
   "metadata": {},
   "source": [
    "# Melhor Modelo"
   ]
  },
  {
   "cell_type": "markdown",
   "metadata": {},
   "source": [
    "### Acurácia Teste:"
   ]
  },
  {
   "cell_type": "code",
   "execution_count": 174,
   "metadata": {},
   "outputs": [
    {
     "data": {
      "text/plain": [
       "0.9768035258640687"
      ]
     },
     "execution_count": 174,
     "metadata": {},
     "output_type": "execute_result"
    }
   ],
   "source": [
    "best_model_xgb = grid_search.best_estimator_\n",
    "\n",
    "y_predictions = best_model_xgb.predict(X_test)\n",
    "accuracy_score(y_test, y_predictions)"
   ]
  },
  {
   "cell_type": "markdown",
   "metadata": {},
   "source": [
    "### Parâmetros"
   ]
  },
  {
   "cell_type": "code",
   "execution_count": 176,
   "metadata": {},
   "outputs": [
    {
     "data": {
      "text/plain": [
       "{'objective': 'binary:logistic',\n",
       " 'base_score': 0.5,\n",
       " 'booster': None,\n",
       " 'colsample_bylevel': 1,\n",
       " 'colsample_bynode': 1,\n",
       " 'colsample_bytree': 1,\n",
       " 'gamma': 0,\n",
       " 'gpu_id': -1,\n",
       " 'importance_type': 'gain',\n",
       " 'interaction_constraints': None,\n",
       " 'learning_rate': 0.300000012,\n",
       " 'max_delta_step': 0,\n",
       " 'max_depth': 6,\n",
       " 'min_child_weight': 1,\n",
       " 'missing': nan,\n",
       " 'monotone_constraints': None,\n",
       " 'n_estimators': 1000,\n",
       " 'n_jobs': 0,\n",
       " 'num_parallel_tree': 1,\n",
       " 'random_state': 0,\n",
       " 'reg_alpha': 0,\n",
       " 'reg_lambda': 1,\n",
       " 'scale_pos_weight': 1,\n",
       " 'subsample': 1,\n",
       " 'tree_method': None,\n",
       " 'validate_parameters': False,\n",
       " 'verbosity': None,\n",
       " 'min_samples_split': 5,\n",
       " 'XGB__learning_rate': 0.001,\n",
       " 'XGB__max_depth': 3,\n",
       " 'XGB__min_samples_split': 2,\n",
       " 'XGB__n_estimators': 500,\n",
       " 'XGB__subsample': 0.5}"
      ]
     },
     "execution_count": 176,
     "metadata": {},
     "output_type": "execute_result"
    }
   ],
   "source": [
    "best_model_xgb.get_params()"
   ]
  },
  {
   "cell_type": "code",
   "execution_count": 26,
   "metadata": {},
   "outputs": [],
   "source": [
    "xgb_bestmodel = XGBClassifier(n_estimators=500, min_samples_split=2, subsample = 0.5, learning_rate = 0.001, max_depth = 3)"
   ]
  },
  {
   "cell_type": "code",
   "execution_count": 31,
   "metadata": {},
   "outputs": [
    {
     "data": {
      "text/plain": [
       "0.9705404778473672"
      ]
     },
     "execution_count": 31,
     "metadata": {},
     "output_type": "execute_result"
    }
   ],
   "source": [
    "xgb_bestmodel.fit(X_train, y_train)\n",
    "\n",
    "from sklearn.metrics import accuracy_score\n",
    "\n",
    "y_predictions = xgb_bestmodel.predict(X_test)\n",
    "accuracy_score(y_test, y_predictions)"
   ]
  },
  {
   "cell_type": "code",
   "execution_count": 35,
   "metadata": {},
   "outputs": [
    {
     "data": {
      "text/plain": [
       "array([5.9290826e-03, 1.2230569e-03, 1.6108698e-03, 4.3141595e-03,\n",
       "       3.1877041e-04, 1.8806799e-03, 1.8298288e-03, 3.0058068e-03,\n",
       "       4.5589064e-03, 9.6323204e-01, 3.6671853e-03, 2.6838451e-03,\n",
       "       5.6183839e-04, 5.1837973e-03, 0.0000000e+00, 0.0000000e+00],\n",
       "      dtype=float32)"
      ]
     },
     "execution_count": 35,
     "metadata": {},
     "output_type": "execute_result"
    }
   ],
   "source": [
    "xgb_bestmodel.feature_importances_"
   ]
  },
  {
   "cell_type": "code",
   "execution_count": 46,
   "metadata": {},
   "outputs": [
    {
     "data": {
      "image/png": "[encoded data removed]",
      "text/plain": [
       "<Figure size 648x72 with 1 Axes>"
      ]
     },
     "metadata": {
      "needs_background": "light"
     },
     "output_type": "display_data"
    }
   ],
   "source": [
    "# configurando paleta de cores identidade visual FIA\n",
    "palette = ['#6ADBD9','#485C5B','#B0E1E0', '#434343','#204242','#2C5C5B', '#8F8F8F', '#CFCFCF','#4F4F4F']\n",
    "\n",
    "sns.set_palette(palette)\n",
    "\n",
    "current_palette = sns.color_palette()\n",
    "sns.palplot(current_palette)"
   ]
  },
  {
   "cell_type": "code",
   "execution_count": 50,
   "metadata": {},
   "outputs": [
    {
     "data": {
      "image/png": "[encoded data removed]",
      "text/plain": [
       "<Figure size 432x288 with 1 Axes>"
      ]
     },
     "metadata": {
      "needs_background": "light"
     },
     "output_type": "display_data"
    }
   ],
   "source": [
    "sorted_idx = xgb_bestmodel.feature_importances_.argsort()\n",
    "\n",
    "plt.barh(X_test.columns[sorted_idx], xgb_bestmodel.feature_importances_[sorted_idx]);\n",
    "plt.title('Feature Importances');"
   ]
  },
  {
   "cell_type": "code",
   "execution_count": null,
   "metadata": {},
   "outputs": [],
   "source": []
  }
 ],
 "metadata": {
  "kernelspec": {
   "display_name": "Python 3",
   "language": "python",
   "name": "python3"
  },
  "language_info": {
   "codemirror_mode": {
    "name": "ipython",
    "version": 3
   },
   "file_extension": ".py",
   "mimetype": "text/x-python",
   "name": "python",
   "nbconvert_exporter": "python",
   "pygments_lexer": "ipython3",
   "version": "3.7.6"
  }
 },
 "nbformat": 4,
 "nbformat_minor": 4
}
